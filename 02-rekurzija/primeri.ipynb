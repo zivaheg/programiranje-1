{
  "cells": [
    {
      "cell_type": "markdown",
      "metadata": {},
      "source": [
        "# Rekurzija"
      ]
    },
    {
      "cell_type": "code",
      "execution_count": 2,
      "metadata": {
        "vscode": {
          "languageId": "ocaml"
        }
      },
      "outputs": [
        {
          "data": {
            "text/plain": [
              "val vsota_prvih : int -> int = <fun>\n"
            ]
          },
          "execution_count": 2,
          "metadata": {},
          "output_type": "execute_result"
        }
      ],
      "source": [
        "let rec vsota_prvih n =\n",
        "  if n = 0 then 0 else vsota_prvih (n - 1) + n"
      ]
    },
    {
      "cell_type": "code",
      "execution_count": null,
      "metadata": {
        "vscode": {
          "languageId": "ocaml"
        }
      },
      "outputs": [],
      "source": [
        "vsota_prvih 36"
      ]
    },
    {
      "cell_type": "code",
      "execution_count": null,
      "metadata": {
        "vscode": {
          "languageId": "ocaml"
        }
      },
      "outputs": [],
      "source": [
        "let rec fakulteta n =\n",
        "  if n = 0 then 1 else fakulteta (n - 1) * n"
      ]
    },
    {
      "cell_type": "code",
      "execution_count": null,
      "metadata": {
        "vscode": {
          "languageId": "ocaml"
        }
      },
      "outputs": [],
      "source": [
        "fakulteta 10"
      ]
    },
    {
      "cell_type": "code",
      "execution_count": 3,
      "metadata": {
        "vscode": {
          "languageId": "ocaml"
        }
      },
      "outputs": [
        {
          "data": {
            "text/plain": [
              "val fib : int -> int = <fun>\n"
            ]
          },
          "execution_count": 3,
          "metadata": {},
          "output_type": "execute_result"
        }
      ],
      "source": [
        "let rec fib n =\n",
        "  if n = 0 then\n",
        "    0\n",
        "  else if n = 1 then\n",
        "    1\n",
        "  else\n",
        "    fib (n - 1) + fib (n - 2)"
      ]
    },
    {
      "cell_type": "code",
      "execution_count": null,
      "metadata": {
        "vscode": {
          "languageId": "ocaml"
        }
      },
      "outputs": [],
      "source": [
        "fib 10"
      ]
    },
    {
      "cell_type": "code",
      "execution_count": null,
      "metadata": {
        "vscode": {
          "languageId": "ocaml"
        }
      },
      "outputs": [],
      "source": [
        "let hitri_fib n =\n",
        "  let rec aux n a b =\n",
        "    if n = 0 then a else aux (n - 1) b (a + b)\n",
        "  in aux n 0 1"
      ]
    },
    {
      "cell_type": "code",
      "execution_count": null,
      "metadata": {
        "vscode": {
          "languageId": "ocaml"
        }
      },
      "outputs": [],
      "source": [
        "hitri_fib 10"
      ]
    },
    {
      "cell_type": "code",
      "execution_count": null,
      "metadata": {
        "vscode": {
          "languageId": "ocaml"
        }
      },
      "outputs": [],
      "source": [
        "let rec je_sodo n =\n",
        "  n = 0 || je_liho (n - 1)\n",
        "\n",
        "and je_liho n =\n",
        "  n = 1 || je_sodo (n - 1)"
      ]
    },
    {
      "cell_type": "markdown",
      "metadata": {},
      "source": [
        "## Ujemanje vzorcev\n"
      ]
    },
    {
      "cell_type": "markdown",
      "metadata": {
        "vscode": {
          "languageId": "ocaml"
        }
      },
      "source": [
        "### Konstrukt `match`"
      ]
    },
    {
      "cell_type": "code",
      "execution_count": null,
      "metadata": {
        "vscode": {
          "languageId": "ocaml"
        }
      },
      "outputs": [],
      "source": [
        "let rec vsota_prvih n =\n",
        "  match n with\n",
        "  | 0 -> 0\n",
        "  (* | 1 -> 1\n",
        "  | 2 -> 3\n",
        "  | 3 -> 6 *)\n",
        "  | _ -> vsota_prvih (n - 1) + n"
      ]
    },
    {
      "cell_type": "code",
      "execution_count": null,
      "metadata": {
        "vscode": {
          "languageId": "ocaml"
        }
      },
      "outputs": [],
      "source": [
        "let rec fakulteta n =\n",
        "  if n = 0 then 1 else fakulteta (n - 1) * n"
      ]
    },
    {
      "cell_type": "code",
      "execution_count": null,
      "metadata": {
        "vscode": {
          "languageId": "ocaml"
        }
      },
      "outputs": [],
      "source": [
        "let rec fib n =\n",
        "  match n with\n",
        "  | 0 -> 0\n",
        "  | 1 -> 1\n",
        "  | _ -> fib (n - 1) + fib (n - 2)"
      ]
    },
    {
      "cell_type": "markdown",
      "metadata": {},
      "source": [
        "### Konstrukt `function`"
      ]
    },
    {
      "cell_type": "code",
      "execution_count": 4,
      "metadata": {
        "vscode": {
          "languageId": "ocaml"
        }
      },
      "outputs": [
        {
          "data": {
            "text/plain": [
              "val vsota_prvih : int -> int = <fun>\n"
            ]
          },
          "execution_count": 4,
          "metadata": {},
          "output_type": "execute_result"
        }
      ],
      "source": [
        "let rec vsota_prvih n =\n",
        "  match n with\n",
        "  | 0 -> 0\n",
        "  | _ -> vsota_prvih (n - 1) + n"
      ]
    },
    {
      "cell_type": "code",
      "execution_count": 6,
      "metadata": {
        "vscode": {
          "languageId": "ocaml"
        }
      },
      "outputs": [
        {
          "data": {
            "text/plain": [
              "val vsota_prvih : int -> int = <fun>\n"
            ]
          },
          "execution_count": 6,
          "metadata": {},
          "output_type": "execute_result"
        }
      ],
      "source": [
        "let rec vsota_prvih =\n",
        "  function\n",
        "  | 0 -> 0\n",
        "  | n -> vsota_prvih (n - 1) + n"
      ]
    },
    {
      "cell_type": "code",
      "execution_count": null,
      "metadata": {
        "vscode": {
          "languageId": "ocaml"
        }
      },
      "outputs": [],
      "source": [
        "let rec fakulteta n =\n",
        "  match n with\n",
        "  | 0 -> 1\n",
        "  | _ -> n * fakulteta (n - 1)"
      ]
    },
    {
      "cell_type": "code",
      "execution_count": 7,
      "metadata": {
        "vscode": {
          "languageId": "ocaml"
        }
      },
      "outputs": [
        {
          "data": {
            "text/plain": [
              "val fib : int -> int = <fun>\n"
            ]
          },
          "execution_count": 7,
          "metadata": {},
          "output_type": "execute_result"
        }
      ],
      "source": [
        "let rec fib =\n",
        "  function\n",
        "  | 0 -> 0\n",
        "  | 1 -> 1\n",
        "  | n -> fib (n - 1) + fib (n - 2)"
      ]
    },
    {
      "cell_type": "markdown",
      "metadata": {},
      "source": [
        "### Pokritost vzorcev"
      ]
    },
    {
      "cell_type": "code",
      "execution_count": 13,
      "metadata": {
        "vscode": {
          "languageId": "ocaml"
        }
      },
      "outputs": [
        {
          "data": {
            "text/plain": [
              "val ime_jezika : string -> string = <fun>\n"
            ]
          },
          "execution_count": 13,
          "metadata": {},
          "output_type": "execute_result"
        }
      ],
      "source": [
        "let ime_jezika =\n",
        "  function\n",
        "  | \".ml\" -> \"OCaml\"\n",
        "  | \".py\" -> \"Python\"\n",
        "  | \".rs\" -> \"Rust\"\n",
        "  | _ -> \"neznan jezik\""
      ]
    },
    {
      "cell_type": "code",
      "execution_count": 14,
      "metadata": {
        "vscode": {
          "languageId": "ocaml"
        }
      },
      "outputs": [
        {
          "data": {
            "text/plain": [
              "val ime_jezika : string -> string option = <fun>\n"
            ]
          },
          "execution_count": 14,
          "metadata": {},
          "output_type": "execute_result"
        }
      ],
      "source": [
        "let ime_jezika =\n",
        "  function\n",
        "  | \".ml\" -> Some \"OCaml\"\n",
        "  | \".py\" -> Some \"Python\"\n",
        "  | \".rs\" -> Some \"Rust\"\n",
        "  | _ -> None"
      ]
    },
    {
      "cell_type": "code",
      "execution_count": 11,
      "metadata": {
        "vscode": {
          "languageId": "ocaml"
        }
      },
      "outputs": [
        {
          "ename": "error",
          "evalue": "runtime_error",
          "output_type": "error",
          "traceback": [
            "\u001b[31mException: Match_failure (\"[8]\", 2, 2).\nRaised at ime_jezika in file \"[8]\", line 2, characters 2-73\nCalled from Stdlib__Fun.protect in file \"fun.ml\", line 33, characters 8-15\nRe-raised at Stdlib__Fun.protect in file \"fun.ml\", line 38, characters 6-52\nCalled from Topeval.load_lambda in file \"toplevel/byte/topeval.ml\", line 89, characters 4-150\n\u001b[0m"
          ]
        }
      ],
      "source": [
        "ime_jezika \".m\""
      ]
    },
    {
      "cell_type": "markdown",
      "metadata": {},
      "source": [
        "## Možni vzorci"
      ]
    },
    {
      "cell_type": "markdown",
      "metadata": {
        "slideshow": {
          "slide_type": "slide"
        }
      },
      "source": [
        "### Osnovni vzorci"
      ]
    },
    {
      "cell_type": "code",
      "execution_count": null,
      "metadata": {
        "vscode": {
          "languageId": "ocaml"
        }
      },
      "outputs": [],
      "source": [
        "let ali_je_res =\n",
        "  function\n",
        "  | true -> \"res je\"\n",
        "  | false -> \"ni res\""
      ]
    },
    {
      "cell_type": "code",
      "execution_count": null,
      "metadata": {
        "vscode": {
          "languageId": "ocaml"
        }
      },
      "outputs": [],
      "source": [
        "let ime_stevila =\n",
        "  function\n",
        "  | 1 -> \"ena\"\n",
        "  | 2 -> \"dva\"\n",
        "  | _ -> \"veliko\""
      ]
    },
    {
      "cell_type": "code",
      "execution_count": null,
      "metadata": {
        "vscode": {
          "languageId": "ocaml"
        }
      },
      "outputs": [],
      "source": [
        "let ime_stevila =\n",
        "  function\n",
        "  | 1 -> \"ena\"\n",
        "  | 2 -> \"dva\"\n",
        "  | x -> \"število \" ^ string_of_int x"
      ]
    },
    {
      "cell_type": "markdown",
      "metadata": {
        "slideshow": {
          "slide_type": "slide"
        }
      },
      "source": [
        "### Združeni vzorci"
      ]
    },
    {
      "cell_type": "code",
      "execution_count": null,
      "metadata": {
        "vscode": {
          "languageId": "ocaml"
        }
      },
      "outputs": [],
      "source": [
        "let je_prestopno leto =\n",
        "  (leto mod 4 = 0 && leto mod 100 <> 0) || leto mod 400 = 0\n",
        "  \n",
        "let dolzina_meseca leto =\n",
        "  function\n",
        "  | 4 | 6 | 9 | 11 -> 30\n",
        "  | 2 -> if je_prestopno leto then 29 else 28\n",
        "  | _ -> 31"
      ]
    },
    {
      "cell_type": "markdown",
      "metadata": {},
      "source": [
        "### Vzorci za nabore"
      ]
    },
    {
      "cell_type": "code",
      "execution_count": null,
      "metadata": {
        "vscode": {
          "languageId": "ocaml"
        }
      },
      "outputs": [
        {
          "name": "stderr",
          "output_type": "stream",
          "text": [
            "File \"[16]\", line 4, characters 4-10:\n",
            "4 |   | (0, 0) -> \"izhodišče\"\n",
            "        ^^^^^^\n",
            "Warning 11 [redundant-case]: this match case is unused.\n"
          ]
        },
        {
          "data": {
            "text/plain": [
              "val polozaj_tocke : int * int -> string = <fun>\n"
            ]
          },
          "execution_count": 16,
          "metadata": {},
          "output_type": "execute_result"
        }
      ],
      "source": [
        "let polozaj_tocke =\n",
        "  function\n",
        "  | (0, 0) -> \"izhodišče\"\n",
        "  | (0, _) -> \"ordinata\"\n",
        "  | (_, 0) -> \"abscisa\"\n",
        "  | (_, _) -> \"nekje drugje\""
      ]
    },
    {
      "cell_type": "code",
      "execution_count": 20,
      "metadata": {
        "vscode": {
          "languageId": "ocaml"
        }
      },
      "outputs": [
        {
          "data": {
            "text/plain": [
              "val polozaj_tocke : int * int -> string = <fun>\n"
            ]
          },
          "execution_count": 20,
          "metadata": {},
          "output_type": "execute_result"
        }
      ],
      "source": [
        "let polozaj_tocke =\n",
        "  function\n",
        "  | (0, 0) -> \"izhodišče\"\n",
        "  | (0, _) -> \"ordinata\"\n",
        "  | (_, 0) -> \"abscisa\"\n",
        "  | (x, y) ->\n",
        "      let razdalja = (x * x + y * y) |> float_of_int |> sqrt in\n",
        "      \"nekje drugje, in sicer okoli \" ^ string_of_float razdalja ^ \" stran od izhodisca\""
      ]
    },
    {
      "cell_type": "code",
      "execution_count": 21,
      "metadata": {
        "vscode": {
          "languageId": "ocaml"
        }
      },
      "outputs": [
        {
          "data": {
            "text/plain": [
              "- : string = \"nekje drugje, in sicer okoli 5. stran od izhodisca\"\n"
            ]
          },
          "execution_count": 21,
          "metadata": {},
          "output_type": "execute_result"
        }
      ],
      "source": [
        "polozaj_tocke (3, 4)"
      ]
    },
    {
      "cell_type": "code",
      "execution_count": 22,
      "metadata": {
        "tags": [
          "raises-exception"
        ],
        "vscode": {
          "languageId": "ocaml"
        }
      },
      "outputs": [
        {
          "ename": "error",
          "evalue": "compile_error",
          "output_type": "error",
          "traceback": [
            "File \"[22]\", line 6, characters 8-9:\n6 |   | (x, x) -> \"diagonala\"\n            ^\nError: Variable x is bound several times in this matching\n"
          ]
        }
      ],
      "source": [
        "let polozaj_tocke =\n",
        "  function\n",
        "  | (0, 0) -> \"izhodišče\"\n",
        "  | (_, 0) -> \"abscisa\"\n",
        "  | (0, _) -> \"ordinata\"\n",
        "  | (x, x) -> \"diagonala\"\n",
        "  | (_, _) -> \"nekje drugje\""
      ]
    },
    {
      "cell_type": "markdown",
      "metadata": {
        "slideshow": {
          "slide_type": "slide"
        }
      },
      "source": [
        "### Varovani vzorci"
      ]
    },
    {
      "cell_type": "code",
      "execution_count": 24,
      "metadata": {
        "vscode": {
          "languageId": "ocaml"
        }
      },
      "outputs": [
        {
          "data": {
            "text/plain": [
              "val polozaj_tocke : int * int -> string = <fun>\n"
            ]
          },
          "execution_count": 24,
          "metadata": {},
          "output_type": "execute_result"
        }
      ],
      "source": [
        "let polozaj_tocke =\n",
        "  function\n",
        "  | (0, 0) -> \"izhodišče\"\n",
        "  | (_, 0) -> \"abscisa\"\n",
        "  | (0, _) -> \"ordinata\"\n",
        "  | (x, y) -> if x = y then \"diagonala\" else \"nekje drugje\""
      ]
    },
    {
      "cell_type": "code",
      "execution_count": null,
      "metadata": {
        "vscode": {
          "languageId": "ocaml"
        }
      },
      "outputs": [
        {
          "data": {
            "text/plain": [
              "val polozaj_tocke : int * int -> string = <fun>\n"
            ]
          },
          "metadata": {},
          "output_type": "display_data"
        }
      ],
      "source": [
        "let polozaj_tocke =\n",
        "  function\n",
        "  | (0, 0) -> \"izhodišče\"\n",
        "  | (_, 0) -> \"abscisa\"\n",
        "  | (0, _) -> \"ordinata\"\n",
        "  | (x, y) when x = y -> \"diagonala\"\n",
        "  | (_, _) -> \"nekje drugje\""
      ]
    },
    {
      "cell_type": "code",
      "execution_count": null,
      "metadata": {
        "vscode": {
          "languageId": "ocaml"
        }
      },
      "outputs": [],
      "source": [
        "let veljaven_trikotnik a b c =\n",
        "  a + b <= c || a + c <= b || b + c <= a\n",
        "\n",
        "let oblika_trikotnika =\n",
        "  function\n",
        "  | (a, b, c) when not (veljaven_trikotnik a b c) -> \"neveljaven\"\n",
        "  | (0, _, _) | (_, 0, _) | (_, _, 0) -> \"izrojen\"\n",
        "  | (a, b, c) when a = b && b = c -> \"enakostraničen\"\n",
        "  | (a, b, c) when a = b || b = c || a = c -> \"enakokrak\"\n",
        "  | (_, _, _) -> \"poljuben\""
      ]
    },
    {
      "cell_type": "code",
      "execution_count": null,
      "metadata": {
        "vscode": {
          "languageId": "ocaml"
        }
      },
      "outputs": [],
      "source": [
        "let oblika_trikotnika =\n",
        "  function\n",
        "  | (a, b, c) ->\n",
        "      if not (veljaven_trikotnik a b c) then\n",
        "        \"neveljaven\"\n",
        "      else match (a, b, c) with\n",
        "      | (0, _, _) | (_, 0, _) | (_, _, 0) -> \"izrojen\"\n",
        "      | (a, b, c) ->\n",
        "          if a = b && b = c then \"enakostraničen\"\n",
        "          else if a = b || b = c || a = c then \"enakokrak\"\n",
        "          else \"poljuben\""
      ]
    },
    {
      "cell_type": "markdown",
      "metadata": {
        "slideshow": {
          "slide_type": "slide"
        }
      },
      "source": [
        "### Vzorci za morebitne vrednosti"
      ]
    },
    {
      "cell_type": "code",
      "execution_count": null,
      "metadata": {
        "vscode": {
          "languageId": "ocaml"
        }
      },
      "outputs": [
        {
          "name": "stderr",
          "output_type": "stream",
          "text": [
            "File \"[30]\", lines 2-3, characters 2-19:\n",
            "2 | ..match int_of_string_opt niz with\n",
            "3 |   | Some x -> x > 0\n",
            "Warning 8 [partial-match]: this pattern-matching is not exhaustive.\n",
            "Here is an example of a case that is not matched:\n",
            "None\n"
          ]
        },
        {
          "data": {
            "text/plain": [
              "val opisuje_pozitivno_stevilo : string -> bool = <fun>\n"
            ]
          },
          "execution_count": 30,
          "metadata": {},
          "output_type": "execute_result"
        }
      ],
      "source": [
        "let opisuje_pozitivno_stevilo niz =\n",
        "  match int_of_string_opt niz with\n",
        "  | Some x -> x > 0\n",
        "  | None -> false"
      ]
    },
    {
      "cell_type": "code",
      "execution_count": 26,
      "metadata": {
        "vscode": {
          "languageId": "ocaml"
        }
      },
      "outputs": [
        {
          "data": {
            "text/plain": [
              "- : bool = true\n"
            ]
          },
          "execution_count": 26,
          "metadata": {},
          "output_type": "execute_result"
        }
      ],
      "source": [
        "opisuje_pozitivno_stevilo \"100\""
      ]
    },
    {
      "cell_type": "code",
      "execution_count": 27,
      "metadata": {
        "vscode": {
          "languageId": "ocaml"
        }
      },
      "outputs": [
        {
          "data": {
            "text/plain": [
              "- : bool = false\n"
            ]
          },
          "execution_count": 27,
          "metadata": {},
          "output_type": "execute_result"
        }
      ],
      "source": [
        "opisuje_pozitivno_stevilo \"-100\""
      ]
    },
    {
      "cell_type": "code",
      "execution_count": 28,
      "metadata": {
        "vscode": {
          "languageId": "ocaml"
        }
      },
      "outputs": [
        {
          "ename": "error",
          "evalue": "runtime_error",
          "output_type": "error",
          "traceback": [
            "\u001b[31mException: Failure \"int_of_string\".\nRaised by primitive operation at opisuje_pozitivno_stevilo in file \"[25]\", line 2, characters 2-19\nCalled from Stdlib__Fun.protect in file \"fun.ml\", line 33, characters 8-15\nRe-raised at Stdlib__Fun.protect in file \"fun.ml\", line 38, characters 6-52\nCalled from Topeval.load_lambda in file \"toplevel/byte/topeval.ml\", line 89, characters 4-150\n\u001b[0m"
          ]
        }
      ],
      "source": [
        "opisuje_pozitivno_stevilo \"sto\""
      ]
    },
    {
      "cell_type": "code",
      "execution_count": null,
      "metadata": {
        "vscode": {
          "languageId": "ocaml"
        }
      },
      "outputs": [],
      "source": []
    },
    {
      "cell_type": "markdown",
      "metadata": {
        "slideshow": {
          "slide_type": "slide"
        }
      },
      "source": [
        "## Razstavljanje seznamov"
      ]
    },
    {
      "cell_type": "markdown",
      "metadata": {},
      "source": [
        "### Vzorci za sezname fiksne dolžine"
      ]
    },
    {
      "cell_type": "code",
      "execution_count": null,
      "metadata": {
        "vscode": {
          "languageId": "ocaml"
        }
      },
      "outputs": [],
      "source": [
        "let citiraj_knjigo avtorji naslov =\n",
        "  match avtorji with\n",
        "  | [] -> naslov\n",
        "  | [avtor] -> avtor ^ \": \" ^ naslov\n",
        "  | [prvi; drugi] -> prvi ^ \", \" ^ drugi ^ \": \" ^ naslov\n",
        "  (* uporaba List.hd je slaba praksa *)\n",
        "  | _ -> List.hd avtorji ^ \" in ostali: \" ^ naslov"
      ]
    },
    {
      "cell_type": "code",
      "execution_count": null,
      "metadata": {
        "vscode": {
          "languageId": "ocaml"
        }
      },
      "outputs": [],
      "source": [
        "citiraj_knjigo [] \"Telefonski imenik\""
      ]
    },
    {
      "cell_type": "code",
      "execution_count": null,
      "metadata": {
        "vscode": {
          "languageId": "ocaml"
        }
      },
      "outputs": [],
      "source": [
        "citiraj_knjigo [\"Tolkien\"] \"Gospodar prstanov\""
      ]
    },
    {
      "cell_type": "code",
      "execution_count": null,
      "metadata": {
        "vscode": {
          "languageId": "ocaml"
        }
      },
      "outputs": [],
      "source": [
        "citiraj_knjigo [\"Pratchett\"; \"Gaiman\"] \"Dobra znamenja\""
      ]
    },
    {
      "cell_type": "code",
      "execution_count": null,
      "metadata": {
        "vscode": {
          "languageId": "ocaml"
        }
      },
      "outputs": [],
      "source": [
        "citiraj_knjigo [\"Golob\"; \"Kos\"; \"Vrabec\"] \"Ptiči Slovenije\""
      ]
    },
    {
      "cell_type": "markdown",
      "metadata": {},
      "source": [
        "### Razstavljanje na glavo in rep"
      ]
    },
    {
      "cell_type": "code",
      "execution_count": null,
      "metadata": {
        "vscode": {
          "languageId": "ocaml"
        }
      },
      "outputs": [],
      "source": [
        "let citiraj_knjigo avtorji naslov =\n",
        "  match avtorji with\n",
        "  | [] -> naslov\n",
        "  | [avtor] -> avtor ^ \": \" ^ naslov\n",
        "  | [prvi; drugi] -> prvi ^ \", \" ^ drugi ^ \": \" ^ naslov\n",
        "  | prvi :: _ -> prvi ^ \" in ostali: \" ^ naslov"
      ]
    },
    {
      "cell_type": "code",
      "execution_count": null,
      "metadata": {
        "vscode": {
          "languageId": "ocaml"
        }
      },
      "outputs": [],
      "source": [
        "citiraj_knjigo [\"Janko\"; \"Metka\"] \"Radi pečemo\""
      ]
    },
    {
      "cell_type": "markdown",
      "metadata": {
        "slideshow": {
          "slide_type": "slide"
        }
      },
      "source": [
        "### Enostavne rekurzivne funkcije"
      ]
    },
    {
      "cell_type": "code",
      "execution_count": 31,
      "metadata": {
        "slideshow": {
          "slide_type": "fragment"
        },
        "vscode": {
          "languageId": "ocaml"
        }
      },
      "outputs": [
        {
          "data": {
            "text/plain": [
              "val vsota : int list -> int = <fun>\n"
            ]
          },
          "execution_count": 31,
          "metadata": {},
          "output_type": "execute_result"
        }
      ],
      "source": [
        "let rec vsota sez =\n",
        "  match sez with\n",
        "  | [] -> 0\n",
        "  | glava :: rep -> glava + vsota rep"
      ]
    },
    {
      "cell_type": "code",
      "execution_count": 32,
      "metadata": {
        "slideshow": {
          "slide_type": "fragment"
        },
        "vscode": {
          "languageId": "ocaml"
        }
      },
      "outputs": [
        {
          "data": {
            "text/plain": [
              "- : int = 10\n"
            ]
          },
          "execution_count": 32,
          "metadata": {},
          "output_type": "execute_result"
        }
      ],
      "source": [
        "vsota [1; 2; 3; 4]"
      ]
    },
    {
      "cell_type": "code",
      "execution_count": 33,
      "metadata": {
        "slideshow": {
          "slide_type": "-"
        },
        "vscode": {
          "languageId": "ocaml"
        }
      },
      "outputs": [
        {
          "data": {
            "text/plain": [
              "val dolzina : 'a list -> int = <fun>\n"
            ]
          },
          "execution_count": 33,
          "metadata": {},
          "output_type": "execute_result"
        }
      ],
      "source": [
        "let rec dolzina =\n",
        "  function\n",
        "  | [] -> 0\n",
        "  | _glava :: rep -> 1 + dolzina rep"
      ]
    },
    {
      "cell_type": "code",
      "execution_count": null,
      "metadata": {
        "slideshow": {
          "slide_type": "fragment"
        },
        "vscode": {
          "languageId": "ocaml"
        }
      },
      "outputs": [],
      "source": [
        "dolzina [1; 2; 3; 4]"
      ]
    },
    {
      "cell_type": "code",
      "execution_count": 34,
      "metadata": {
        "vscode": {
          "languageId": "ocaml"
        }
      },
      "outputs": [
        {
          "data": {
            "text/plain": [
              "val map : ('a -> 'b) -> 'a list -> 'b list = <fun>\n"
            ]
          },
          "execution_count": 34,
          "metadata": {},
          "output_type": "execute_result"
        }
      ],
      "source": [
        "let rec map f =\n",
        "  function\n",
        "  | [] -> []\n",
        "  | glava :: rep -> f glava :: map f rep"
      ]
    },
    {
      "cell_type": "code",
      "execution_count": 35,
      "metadata": {
        "slideshow": {
          "slide_type": "fragment"
        },
        "vscode": {
          "languageId": "ocaml"
        }
      },
      "outputs": [
        {
          "data": {
            "text/plain": [
              "- : int list = [4; 3; 5]\n"
            ]
          },
          "execution_count": 35,
          "metadata": {},
          "output_type": "execute_result"
        }
      ],
      "source": [
        "map String.length [\"avto\"; \"pes\"; \"mucka\"]"
      ]
    },
    {
      "cell_type": "code",
      "execution_count": null,
      "metadata": {
        "vscode": {
          "languageId": "ocaml"
        }
      },
      "outputs": [],
      "source": [
        "let rec ( @ ) sez1 sez2 =\n",
        "  ..."
      ]
    },
    {
      "cell_type": "code",
      "execution_count": null,
      "metadata": {
        "vscode": {
          "languageId": "ocaml"
        }
      },
      "outputs": [],
      "source": [
        "[1; 2; 3] @ [4; 5; 6]"
      ]
    },
    {
      "cell_type": "markdown",
      "metadata": {
        "slideshow": {
          "slide_type": "slide"
        }
      },
      "source": [
        "### Zlaganje seznamov"
      ]
    },
    {
      "cell_type": "markdown",
      "metadata": {},
      "source": [
        "```ocaml\n",
        "  vsota [a; b; c]\n",
        "= vsota (a :: b :: c :: [])\n",
        "= a + vsota (b :: c :: [])\n",
        "= a + (b + vsota (c :: []))\n",
        "= a + (b + (c + vsota []))\n",
        "= a + (b + (c + 0))\n",
        "= a + b + c\n",
        "```"
      ]
    },
    {
      "cell_type": "markdown",
      "metadata": {},
      "source": [
        "```ocaml\n",
        "  zmnozek [a; b; c]\n",
        "= zmnozek (a :: b :: c :: [])\n",
        "= a * zmnozek (b :: c :: [])\n",
        "= a * (b * zmnozek (c :: []))\n",
        "= a * (b * (c * zmnozek []))\n",
        "= a * (b * (c * 1))\n",
        "= a * b * c\n",
        "```"
      ]
    },
    {
      "cell_type": "markdown",
      "metadata": {},
      "source": [
        "```ocaml\n",
        "  dolzina [a; b; c]\n",
        "= dolzina (a :: b :: c :: [])\n",
        "= 1 + dolzina (b :: c :: [])\n",
        "= 1 + (1 + dolzina (c :: []))\n",
        "= 1 + (1 + (1 + dolzina []))\n",
        "= 1 + (1 + (1 + 0))\n",
        "= 3\n",
        "```"
      ]
    },
    {
      "cell_type": "markdown",
      "metadata": {},
      "source": [
        "\n",
        "```ocaml\n",
        "  map f [a; b; c]\n",
        "= map f (a :: b :: c :: [])\n",
        "= f a :: map f (b :: c :: [])\n",
        "= f a :: (f b :: map f (c :: []))\n",
        "= f a :: (f b :: (f c :: map f []))\n",
        "= f a :: (f b :: (f c :: []))\n",
        "= [f a; f b; f c]\n",
        "```"
      ]
    },
    {
      "cell_type": "markdown",
      "metadata": {},
      "source": [
        "```ocaml\n",
        "  fold_right f [a; b; c] z\n",
        "= fold_right f (a :: b :: c :: []) z\n",
        "= f a (fold_right f (b :: c :: []) z)\n",
        "= f a (f b (fold_right f (c :: []) z))\n",
        "= f a (f b (f c (fold_right f [] z)))\n",
        "= f a (f b (f c z))\n",
        "```"
      ]
    },
    {
      "cell_type": "code",
      "execution_count": 37,
      "metadata": {
        "slideshow": {
          "slide_type": "fragment"
        },
        "vscode": {
          "languageId": "ocaml"
        }
      },
      "outputs": [
        {
          "data": {
            "text/plain": [
              "val fold_right : ('a -> 'b -> 'b) -> 'a list -> 'b -> 'b = <fun>\n"
            ]
          },
          "execution_count": 37,
          "metadata": {},
          "output_type": "execute_result"
        }
      ],
      "source": [
        "let rec fold_right f xs z =\n",
        "  match xs with\n",
        "  | [] -> z\n",
        "  | x :: xs' -> f x (fold_right f xs' z)\n"
      ]
    },
    {
      "cell_type": "code",
      "execution_count": null,
      "metadata": {
        "slideshow": {
          "slide_type": "fragment"
        },
        "vscode": {
          "languageId": "ocaml"
        }
      },
      "outputs": [],
      "source": [
        "fold_right ( + ) [1; 2; 3; 4] 0"
      ]
    },
    {
      "cell_type": "code",
      "execution_count": 38,
      "metadata": {
        "vscode": {
          "languageId": "ocaml"
        }
      },
      "outputs": [
        {
          "data": {
            "text/plain": [
              "- : int = 4\n"
            ]
          },
          "execution_count": 38,
          "metadata": {},
          "output_type": "execute_result"
        }
      ],
      "source": [
        "fold_right ( fun _ acc -> acc + 1 ) [1; 2; 3; 4] 0"
      ]
    },
    {
      "cell_type": "code",
      "execution_count": 36,
      "metadata": {
        "slideshow": {
          "slide_type": "fragment"
        },
        "vscode": {
          "languageId": "ocaml"
        }
      },
      "outputs": [
        {
          "ename": "error",
          "evalue": "compile_error",
          "output_type": "error",
          "traceback": [
            "File \"[36]\", line 1, characters 0-10:\n1 | fold_right ( * ) [1; 2; 3; 4] 1\n    ^^^^^^^^^^\nError: Unbound value fold_right\n"
          ]
        }
      ],
      "source": [
        "fold_right ( * ) [1; 2; 3; 4] 1"
      ]
    },
    {
      "cell_type": "code",
      "execution_count": null,
      "metadata": {
        "vscode": {
          "languageId": "ocaml"
        }
      },
      "outputs": [],
      "source": [
        "let dolzina sez =\n",
        "  fold_right ... sez ...\n",
        "dolzina [1; 2; 3; 4]"
      ]
    },
    {
      "cell_type": "code",
      "execution_count": null,
      "metadata": {
        "vscode": {
          "languageId": "ocaml"
        }
      },
      "outputs": [],
      "source": [
        "let map = ..."
      ]
    },
    {
      "cell_type": "markdown",
      "metadata": {},
      "source": [
        "```ocaml\n",
        "  fold_right f [a; b; c] z\n",
        "= fold_right f (a :: b :: c :: []) z\n",
        "= f a (fold_right f (b :: c :: []) z)\n",
        "= f a (f b (fold_right f (c :: []) z))\n",
        "= f a (f b (f c (fold_right f [] z)))\n",
        "= f a (f b (f c z))\n",
        "```"
      ]
    },
    {
      "cell_type": "markdown",
      "metadata": {},
      "source": [
        "```ocaml\n",
        "  fold_left f z [a; b; c]\n",
        "= fold_left f z (a :: b :: c :: [])\n",
        "= fold_left f (f z a) (b :: c :: [])\n",
        "= fold_left f (f (f z a) b) (c :: [])\n",
        "= fold_left f (f (f (f z a) b) c) []\n",
        "= f (f (f z a) b) c\n",
        "```"
      ]
    },
    {
      "cell_type": "markdown",
      "metadata": {
        "slideshow": {
          "slide_type": "slide"
        }
      },
      "source": [
        "## Repna rekurzija"
      ]
    },
    {
      "cell_type": "markdown",
      "metadata": {},
      "source": [
        "### Repni klici"
      ]
    },
    {
      "cell_type": "markdown",
      "metadata": {},
      "source": [
        "```ocaml\n",
        "let f x = 4 * x\n",
        "let g x = 6 + f x\n",
        "let h x = 3 * g x\n",
        "```"
      ]
    },
    {
      "cell_type": "markdown",
      "metadata": {},
      "source": [
        "```ocaml\n",
        "  h 2\n",
        "= 3 * g 2\n",
        "= 3 * (6 + f 2)\n",
        "= 3 * (6 + 4 * 2)\n",
        "= 3 * (6 + 8)\n",
        "= 3 * 14\n",
        "= 42\n",
        "```"
      ]
    },
    {
      "cell_type": "markdown",
      "metadata": {},
      "source": [
        "```ocaml\n",
        "let f x = 3 * x\n",
        "let g x = f (6 + x)\n",
        "let h x = g (4 * x)\n",
        "```"
      ]
    },
    {
      "cell_type": "markdown",
      "metadata": {},
      "source": [
        "```ocaml\n",
        "  h 2\n",
        "= g (4 * 2)\n",
        "= g 8\n",
        "= f (6 + 8)\n",
        "= f 14\n",
        "= 3 * 14\n",
        "= 42\n",
        "```"
      ]
    },
    {
      "cell_type": "markdown",
      "metadata": {},
      "source": [
        "### Repno rekurzivne funkcije"
      ]
    },
    {
      "cell_type": "code",
      "execution_count": 39,
      "metadata": {
        "vscode": {
          "languageId": "ocaml"
        }
      },
      "outputs": [
        {
          "data": {
            "text/plain": [
              "val f : int -> int = <fun>\n"
            ]
          },
          "execution_count": 39,
          "metadata": {},
          "output_type": "execute_result"
        }
      ],
      "source": [
        "let rec f x =\n",
        "  if x = 0 then 0 else 1 + f (x - 1)"
      ]
    },
    {
      "cell_type": "code",
      "execution_count": 40,
      "metadata": {
        "vscode": {
          "languageId": "ocaml"
        }
      },
      "outputs": [
        {
          "data": {
            "text/plain": [
              "- : int = 3\n"
            ]
          },
          "execution_count": 40,
          "metadata": {},
          "output_type": "execute_result"
        }
      ],
      "source": [
        "f 3"
      ]
    },
    {
      "cell_type": "markdown",
      "metadata": {},
      "source": [
        "```ocaml\n",
        "  f 3\n",
        "= 1 + f 2\n",
        "= 1 + (1 + f 1)\n",
        "= 1 + (1 + (1 + f 0))\n",
        "= 1 + (1 + (1 + 0))\n",
        "= 1 + (1 + 1)\n",
        "= 1 + 2\n",
        "= 3\n",
        "```"
      ]
    },
    {
      "cell_type": "code",
      "execution_count": 41,
      "metadata": {
        "vscode": {
          "languageId": "ocaml"
        }
      },
      "outputs": [
        {
          "data": {
            "text/plain": [
              "- : int = 1000\n"
            ]
          },
          "execution_count": 41,
          "metadata": {},
          "output_type": "execute_result"
        }
      ],
      "source": [
        "f 1000"
      ]
    },
    {
      "cell_type": "code",
      "execution_count": 42,
      "metadata": {
        "vscode": {
          "languageId": "ocaml"
        }
      },
      "outputs": [
        {
          "data": {
            "text/plain": [
              "- : int = 100000\n"
            ]
          },
          "execution_count": 42,
          "metadata": {},
          "output_type": "execute_result"
        }
      ],
      "source": [
        "f 100000"
      ]
    },
    {
      "cell_type": "code",
      "execution_count": 43,
      "metadata": {
        "tags": [
          "raises-exception",
          "scroll-output"
        ],
        "vscode": {
          "languageId": "ocaml"
        }
      },
      "outputs": [
        {
          "ename": "error",
          "evalue": "runtime_error",
          "output_type": "error",
          "traceback": [
            "\u001b[31mStack overflow during evaluation (looping recursion?).\nRaised by primitive operation at f in file \"[39]\", line 2, characters 27-36\nCalled from f in file \"[39]\", line 2, characters 27-36\nCalled from f in file \"[39]\", line 2, characters 27-36\nCalled from f in file \"[39]\", line 2, characters 27-36\nCalled from f in file \"[39]\", line 2, characters 27-36\nCalled from f in file \"[39]\", line 2, characters 27-36\nCalled from f in file \"[39]\", line 2, characters 27-36\nCalled from f in file \"[39]\", line 2, characters 27-36\nCalled from f in file \"[39]\", line 2, characters 27-36\nCalled from f in file \"[39]\", line 2, characters 27-36\nCalled from f in file \"[39]\", line 2, characters 27-36\nCalled from f in file \"[39]\", line 2, characters 27-36\nCalled from f in file \"[39]\", line 2, characters 27-36\nCalled from f in file \"[39]\", line 2, characters 27-36\nCalled from f in file \"[39]\", line 2, characters 27-36\nCalled from f in file \"[39]\", line 2, characters 27-36\nCalled from f in file \"[39]\", line 2, characters 27-36\nCalled from f in file \"[39]\", line 2, characters 27-36\nCalled from f in file \"[39]\", line 2, characters 27-36\nCalled from f in file \"[39]\", line 2, characters 27-36\nCalled from f in file \"[39]\", line 2, characters 27-36\nCalled from f in file \"[39]\", line 2, characters 27-36\nCalled from f in file \"[39]\", line 2, characters 27-36\nCalled from f in file \"[39]\", line 2, characters 27-36\nCalled from f in file \"[39]\", line 2, characters 27-36\nCalled from f in file \"[39]\", line 2, characters 27-36\nCalled from f in file \"[39]\", line 2, characters 27-36\nCalled from f in file \"[39]\", line 2, characters 27-36\nCalled from f in file \"[39]\", line 2, characters 27-36\nCalled from f in file \"[39]\", line 2, characters 27-36\nCalled from f in file \"[39]\", line 2, characters 27-36\nCalled from f in file \"[39]\", line 2, characters 27-36\nCalled from f in file \"[39]\", line 2, characters 27-36\nCalled from f in file \"[39]\", line 2, characters 27-36\nCalled from f in file \"[39]\", line 2, characters 27-36\nCalled from f in file \"[39]\", line 2, characters 27-36\nCalled from f in file \"[39]\", line 2, characters 27-36\nCalled from f in file \"[39]\", line 2, characters 27-36\nCalled from f in file \"[39]\", line 2, characters 27-36\nCalled from f in file \"[39]\", line 2, characters 27-36\nCalled from f in file \"[39]\", line 2, characters 27-36\nCalled from f in file \"[39]\", line 2, characters 27-36\nCalled from f in file \"[39]\", line 2, characters 27-36\nCalled from f in file \"[39]\", line 2, characters 27-36\nCalled from f in file \"[39]\", line 2, characters 27-36\nCalled from f in file \"[39]\", line 2, characters 27-36\nCalled from f in file \"[39]\", line 2, characters 27-36\nCalled from f in file \"[39]\", line 2, characters 27-36\nCalled from f in file \"[39]\", line 2, characters 27-36\nCalled from f in file \"[39]\", line 2, characters 27-36\nCalled from f in file \"[39]\", line 2, characters 27-36\nCalled from f in file \"[39]\", line 2, characters 27-36\nCalled from f in file \"[39]\", line 2, characters 27-36\nCalled from f in file \"[39]\", line 2, characters 27-36\nCalled from f in file \"[39]\", line 2, characters 27-36\nCalled from f in file \"[39]\", line 2, characters 27-36\nCalled from f in file \"[39]\", line 2, characters 27-36\nCalled from f in file \"[39]\", line 2, characters 27-36\nCalled from f in file \"[39]\", line 2, characters 27-36\nCalled from f in file \"[39]\", line 2, characters 27-36\nCalled from f in file \"[39]\", line 2, characters 27-36\nCalled from f in file \"[39]\", line 2, characters 27-36\nCalled from f in file \"[39]\", line 2, characters 27-36\nCalled from f in file \"[39]\", line 2, characters 27-36\nCalled from f in file \"[39]\", line 2, characters 27-36\nCalled from f in file \"[39]\", line 2, characters 27-36\nCalled from f in file \"[39]\", line 2, characters 27-36\nCalled from f in file \"[39]\", line 2, characters 27-36\nCalled from f in file \"[39]\", line 2, characters 27-36\nCalled from f in file \"[39]\", line 2, characters 27-36\nCalled from f in file \"[39]\", line 2, characters 27-36\nCalled from f in file \"[39]\", line 2, characters 27-36\nCalled from f in file \"[39]\", line 2, characters 27-36\nCalled from f in file \"[39]\", line 2, characters 27-36\nCalled from f in file \"[39]\", line 2, characters 27-36\nCalled from f in file \"[39]\", line 2, characters 27-36\nCalled from f in file \"[39]\", line 2, characters 27-36\nCalled from f in file \"[39]\", line 2, characters 27-36\nCalled from f in file \"[39]\", line 2, characters 27-36\nCalled from f in file \"[39]\", line 2, characters 27-36\nCalled from f in file \"[39]\", line 2, characters 27-36\nCalled from f in file \"[39]\", line 2, characters 27-36\nCalled from f in file \"[39]\", line 2, characters 27-36\nCalled from f in file \"[39]\", line 2, characters 27-36\nCalled from f in file \"[39]\", line 2, characters 27-36\nCalled from f in file \"[39]\", line 2, characters 27-36\nCalled from f in file \"[39]\", line 2, characters 27-36\nCalled from f in file \"[39]\", line 2, characters 27-36\nCalled from f in file \"[39]\", line 2, characters 27-36\nCalled from f in file \"[39]\", line 2, characters 27-36\nCalled from f in file \"[39]\", line 2, characters 27-36\nCalled from f in file \"[39]\", line 2, characters 27-36\nCalled from f in file \"[39]\", line 2, characters 27-36\nCalled from f in file \"[39]\", line 2, characters 27-36\nCalled from f in file \"[39]\", line 2, characters 27-36\nCalled from f in file \"[39]\", line 2, characters 27-36\nCalled from f in file \"[39]\", line 2, characters 27-36\nCalled from f in file \"[39]\", line 2, characters 27-36\nCalled from f in file \"[39]\", line 2, characters 27-36\nCalled from f in file \"[39]\", line 2, characters 27-36\nCalled from f in file \"[39]\", line 2, characters 27-36\nCalled from f in file \"[39]\", line 2, characters 27-36\nCalled from f in file \"[39]\", line 2, characters 27-36\nCalled from f in file \"[39]\", line 2, characters 27-36\nCalled from f in file \"[39]\", line 2, characters 27-36\nCalled from f in file \"[39]\", line 2, characters 27-36\nCalled from f in file \"[39]\", line 2, characters 27-36\nCalled from f in file \"[39]\", line 2, characters 27-36\nCalled from f in file \"[39]\", line 2, characters 27-36\nCalled from f in file \"[39]\", line 2, characters 27-36\nCalled from f in file \"[39]\", line 2, characters 27-36\nCalled from f in file \"[39]\", line 2, characters 27-36\nCalled from f in file \"[39]\", line 2, characters 27-36\nCalled from f in file \"[39]\", line 2, characters 27-36\nCalled from f in file \"[39]\", line 2, characters 27-36\nCalled from f in file \"[39]\", line 2, characters 27-36\nCalled from f in file \"[39]\", line 2, characters 27-36\nCalled from f in file \"[39]\", line 2, characters 27-36\nCalled from f in file \"[39]\", line 2, characters 27-36\nCalled from f in file \"[39]\", line 2, characters 27-36\nCalled from f in file \"[39]\", line 2, characters 27-36\nCalled from f in file \"[39]\", line 2, characters 27-36\nCalled from f in file \"[39]\", line 2, characters 27-36\nCalled from f in file \"[39]\", line 2, characters 27-36\nCalled from f in file \"[39]\", line 2, characters 27-36\nCalled from f in file \"[39]\", line 2, characters 27-36\nCalled from f in file \"[39]\", line 2, characters 27-36\nCalled from f in file \"[39]\", line 2, characters 27-36\nCalled from f in file \"[39]\", line 2, characters 27-36\nCalled from f in file \"[39]\", line 2, characters 27-36\nCalled from f in file \"[39]\", line 2, characters 27-36\nCalled from f in file \"[39]\", line 2, characters 27-36\nCalled from f in file \"[39]\", line 2, characters 27-36\nCalled from f in file \"[39]\", line 2, characters 27-36\nCalled from f in file \"[39]\", line 2, characters 27-36\nCalled from f in file \"[39]\", line 2, characters 27-36\nCalled from f in file \"[39]\", line 2, characters 27-36\nCalled from f in file \"[39]\", line 2, characters 27-36\nCalled from f in file \"[39]\", line 2, characters 27-36\nCalled from f in file \"[39]\", line 2, characters 27-36\nCalled from f in file \"[39]\", line 2, characters 27-36\nCalled from f in file \"[39]\", line 2, characters 27-36\nCalled from f in file \"[39]\", line 2, characters 27-36\nCalled from f in file \"[39]\", line 2, characters 27-36\nCalled from f in file \"[39]\", line 2, characters 27-36\nCalled from f in file \"[39]\", line 2, characters 27-36\nCalled from f in file \"[39]\", line 2, characters 27-36\nCalled from f in file \"[39]\", line 2, characters 27-36\nCalled from f in file \"[39]\", line 2, characters 27-36\nCalled from f in file \"[39]\", line 2, characters 27-36\nCalled from f in file \"[39]\", line 2, characters 27-36\nCalled from f in file \"[39]\", line 2, characters 27-36\nCalled from f in file \"[39]\", line 2, characters 27-36\nCalled from f in file \"[39]\", line 2, characters 27-36\nCalled from f in file \"[39]\", line 2, characters 27-36\nCalled from f in file \"[39]\", line 2, characters 27-36\nCalled from f in file \"[39]\", line 2, characters 27-36\nCalled from f in file \"[39]\", line 2, characters 27-36\nCalled from f in file \"[39]\", line 2, characters 27-36\nCalled from f in file \"[39]\", line 2, characters 27-36\nCalled from f in file \"[39]\", line 2, characters 27-36\nCalled from f in file \"[39]\", line 2, characters 27-36\nCalled from f in file \"[39]\", line 2, characters 27-36\nCalled from f in file \"[39]\", line 2, characters 27-36\nCalled from f in file \"[39]\", line 2, characters 27-36\nCalled from f in file \"[39]\", line 2, characters 27-36\nCalled from f in file \"[39]\", line 2, characters 27-36\nCalled from f in file \"[39]\", line 2, characters 27-36\nCalled from f in file \"[39]\", line 2, characters 27-36\nCalled from f in file \"[39]\", line 2, characters 27-36\nCalled from f in file \"[39]\", line 2, characters 27-36\nCalled from f in file \"[39]\", line 2, characters 27-36\nCalled from f in file \"[39]\", line 2, characters 27-36\nCalled from f in file \"[39]\", line 2, characters 27-36\nCalled from f in file \"[39]\", line 2, characters 27-36\nCalled from f in file \"[39]\", line 2, characters 27-36\nCalled from f in file \"[39]\", line 2, characters 27-36\nCalled from f in file \"[39]\", line 2, characters 27-36\nCalled from f in file \"[39]\", line 2, characters 27-36\nCalled from f in file \"[39]\", line 2, characters 27-36\nCalled from f in file \"[39]\", line 2, characters 27-36\nCalled from f in file \"[39]\", line 2, characters 27-36\nCalled from f in file \"[39]\", line 2, characters 27-36\nCalled from f in file \"[39]\", line 2, characters 27-36\nCalled from f in file \"[39]\", line 2, characters 27-36\nCalled from f in file \"[39]\", line 2, characters 27-36\nCalled from f in file \"[39]\", line 2, characters 27-36\nCalled from f in file \"[39]\", line 2, characters 27-36\nCalled from f in file \"[39]\", line 2, characters 27-36\nCalled from f in file \"[39]\", line 2, characters 27-36\nCalled from f in file \"[39]\", line 2, characters 27-36\nCalled from f in file \"[39]\", line 2, characters 27-36\nCalled from f in file \"[39]\", line 2, characters 27-36\nCalled from f in file \"[39]\", line 2, characters 27-36\nCalled from f in file \"[39]\", line 2, characters 27-36\nCalled from f in file \"[39]\", line 2, characters 27-36\nCalled from f in file \"[39]\", line 2, characters 27-36\nCalled from f in file \"[39]\", line 2, characters 27-36\nCalled from f in file \"[39]\", line 2, characters 27-36\nCalled from f in file \"[39]\", line 2, characters 27-36\nCalled from f in file \"[39]\", line 2, characters 27-36\nCalled from f in file \"[39]\", line 2, characters 27-36\nCalled from f in file \"[39]\", line 2, characters 27-36\nCalled from f in file \"[39]\", line 2, characters 27-36\nCalled from f in file \"[39]\", line 2, characters 27-36\nCalled from f in file \"[39]\", line 2, characters 27-36\nCalled from f in file \"[39]\", line 2, characters 27-36\nCalled from f in file \"[39]\", line 2, characters 27-36\nCalled from f in file \"[39]\", line 2, characters 27-36\nCalled from f in file \"[39]\", line 2, characters 27-36\nCalled from f in file \"[39]\", line 2, characters 27-36\nCalled from f in file \"[39]\", line 2, characters 27-36\nCalled from f in file \"[39]\", line 2, characters 27-36\nCalled from f in file \"[39]\", line 2, characters 27-36\nCalled from f in file \"[39]\", line 2, characters 27-36\nCalled from f in file \"[39]\", line 2, characters 27-36\nCalled from f in file \"[39]\", line 2, characters 27-36\nCalled from f in file \"[39]\", line 2, characters 27-36\nCalled from f in file \"[39]\", line 2, characters 27-36\nCalled from f in file \"[39]\", line 2, characters 27-36\nCalled from f in file \"[39]\", line 2, characters 27-36\nCalled from f in file \"[39]\", line 2, characters 27-36\nCalled from f in file \"[39]\", line 2, characters 27-36\nCalled from f in file \"[39]\", line 2, characters 27-36\nCalled from f in file \"[39]\", line 2, characters 27-36\nCalled from f in file \"[39]\", line 2, characters 27-36\nCalled from f in file \"[39]\", line 2, characters 27-36\nCalled from f in file \"[39]\", line 2, characters 27-36\nCalled from f in file \"[39]\", line 2, characters 27-36\nCalled from f in file \"[39]\", line 2, characters 27-36\nCalled from f in file \"[39]\", line 2, characters 27-36\nCalled from f in file \"[39]\", line 2, characters 27-36\nCalled from f in file \"[39]\", line 2, characters 27-36\nCalled from f in file \"[39]\", line 2, characters 27-36\nCalled from f in file \"[39]\", line 2, characters 27-36\nCalled from f in file \"[39]\", line 2, characters 27-36\nCalled from f in file \"[39]\", line 2, characters 27-36\nCalled from f in file \"[39]\", line 2, characters 27-36\nCalled from f in file \"[39]\", line 2, characters 27-36\nCalled from f in file \"[39]\", line 2, characters 27-36\nCalled from f in file \"[39]\", line 2, characters 27-36\nCalled from f in file \"[39]\", line 2, characters 27-36\nCalled from f in file \"[39]\", line 2, characters 27-36\nCalled from f in file \"[39]\", line 2, characters 27-36\nCalled from f in file \"[39]\", line 2, characters 27-36\nCalled from f in file \"[39]\", line 2, characters 27-36\nCalled from f in file \"[39]\", line 2, characters 27-36\nCalled from f in file \"[39]\", line 2, characters 27-36\nCalled from f in file \"[39]\", line 2, characters 27-36\nCalled from f in file \"[39]\", line 2, characters 27-36\nCalled from f in file \"[39]\", line 2, characters 27-36\nCalled from f in file \"[39]\", line 2, characters 27-36\nCalled from f in file \"[39]\", line 2, characters 27-36\nCalled from f in file \"[39]\", line 2, characters 27-36\nCalled from f in file \"[39]\", line 2, characters 27-36\nCalled from f in file \"[39]\", line 2, characters 27-36\nCalled from f in file \"[39]\", line 2, characters 27-36\nCalled from f in file \"[39]\", line 2, characters 27-36\nCalled from f in file \"[39]\", line 2, characters 27-36\nCalled from f in file \"[39]\", line 2, characters 27-36\nCalled from f in file \"[39]\", line 2, characters 27-36\nCalled from f in file \"[39]\", line 2, characters 27-36\nCalled from f in file \"[39]\", line 2, characters 27-36\nCalled from f in file \"[39]\", line 2, characters 27-36\nCalled from f in file \"[39]\", line 2, characters 27-36\nCalled from f in file \"[39]\", line 2, characters 27-36\nCalled from f in file \"[39]\", line 2, characters 27-36\nCalled from f in file \"[39]\", line 2, characters 27-36\nCalled from f in file \"[39]\", line 2, characters 27-36\nCalled from f in file \"[39]\", line 2, characters 27-36\nCalled from f in file \"[39]\", line 2, characters 27-36\nCalled from f in file \"[39]\", line 2, characters 27-36\nCalled from f in file \"[39]\", line 2, characters 27-36\nCalled from f in file \"[39]\", line 2, characters 27-36\nCalled from f in file \"[39]\", line 2, characters 27-36\nCalled from f in file \"[39]\", line 2, characters 27-36\nCalled from f in file \"[39]\", line 2, characters 27-36\nCalled from f in file \"[39]\", line 2, characters 27-36\nCalled from f in file \"[39]\", line 2, characters 27-36\nCalled from f in file \"[39]\", line 2, characters 27-36\nCalled from f in file \"[39]\", line 2, characters 27-36\nCalled from f in file \"[39]\", line 2, characters 27-36\nCalled from f in file \"[39]\", line 2, characters 27-36\nCalled from f in file \"[39]\", line 2, characters 27-36\nCalled from f in file \"[39]\", line 2, characters 27-36\nCalled from f in file \"[39]\", line 2, characters 27-36\nCalled from f in file \"[39]\", line 2, characters 27-36\nCalled from f in file \"[39]\", line 2, characters 27-36\nCalled from f in file \"[39]\", line 2, characters 27-36\nCalled from f in file \"[39]\", line 2, characters 27-36\nCalled from f in file \"[39]\", line 2, characters 27-36\nCalled from f in file \"[39]\", line 2, characters 27-36\nCalled from f in file \"[39]\", line 2, characters 27-36\nCalled from f in file \"[39]\", line 2, characters 27-36\nCalled from f in file \"[39]\", line 2, characters 27-36\nCalled from f in file \"[39]\", line 2, characters 27-36\nCalled from f in file \"[39]\", line 2, characters 27-36\nCalled from f in file \"[39]\", line 2, characters 27-36\nCalled from f in file \"[39]\", line 2, characters 27-36\nCalled from f in file \"[39]\", line 2, characters 27-36\nCalled from f in file \"[39]\", line 2, characters 27-36\nCalled from f in file \"[39]\", line 2, characters 27-36\nCalled from f in file \"[39]\", line 2, characters 27-36\nCalled from f in file \"[39]\", line 2, characters 27-36\nCalled from f in file \"[39]\", line 2, characters 27-36\nCalled from f in file \"[39]\", line 2, characters 27-36\nCalled from f in file \"[39]\", line 2, characters 27-36\nCalled from f in file \"[39]\", line 2, characters 27-36\nCalled from f in file \"[39]\", line 2, characters 27-36\nCalled from f in file \"[39]\", line 2, characters 27-36\nCalled from f in file \"[39]\", line 2, characters 27-36\nCalled from f in file \"[39]\", line 2, characters 27-36\nCalled from f in file \"[39]\", line 2, characters 27-36\nCalled from f in file \"[39]\", line 2, characters 27-36\nCalled from f in file \"[39]\", line 2, characters 27-36\nCalled from f in file \"[39]\", line 2, characters 27-36\nCalled from f in file \"[39]\", line 2, characters 27-36\nCalled from f in file \"[39]\", line 2, characters 27-36\nCalled from f in file \"[39]\", line 2, characters 27-36\nCalled from f in file \"[39]\", line 2, characters 27-36\nCalled from f in file \"[39]\", line 2, characters 27-36\nCalled from f in file \"[39]\", line 2, characters 27-36\nCalled from f in file \"[39]\", line 2, characters 27-36\nCalled from f in file \"[39]\", line 2, characters 27-36\nCalled from f in file \"[39]\", line 2, characters 27-36\nCalled from f in file \"[39]\", line 2, characters 27-36\nCalled from f in file \"[39]\", line 2, characters 27-36\nCalled from f in file \"[39]\", line 2, characters 27-36\nCalled from f in file \"[39]\", line 2, characters 27-36\nCalled from f in file \"[39]\", line 2, characters 27-36\nCalled from f in file \"[39]\", line 2, characters 27-36\nCalled from f in file \"[39]\", line 2, characters 27-36\nCalled from f in file \"[39]\", line 2, characters 27-36\nCalled from f in file \"[39]\", line 2, characters 27-36\nCalled from f in file \"[39]\", line 2, characters 27-36\nCalled from f in file \"[39]\", line 2, characters 27-36\nCalled from f in file \"[39]\", line 2, characters 27-36\nCalled from f in file \"[39]\", line 2, characters 27-36\nCalled from f in file \"[39]\", line 2, characters 27-36\nCalled from f in file \"[39]\", line 2, characters 27-36\nCalled from f in file \"[39]\", line 2, characters 27-36\nCalled from f in file \"[39]\", line 2, characters 27-36\nCalled from f in file \"[39]\", line 2, characters 27-36\nCalled from f in file \"[39]\", line 2, characters 27-36\nCalled from f in file \"[39]\", line 2, characters 27-36\nCalled from f in file \"[39]\", line 2, characters 27-36\nCalled from f in file \"[39]\", line 2, characters 27-36\nCalled from f in file \"[39]\", line 2, characters 27-36\nCalled from f in file \"[39]\", line 2, characters 27-36\nCalled from f in file \"[39]\", line 2, characters 27-36\nCalled from f in file \"[39]\", line 2, characters 27-36\nCalled from f in file \"[39]\", line 2, characters 27-36\nCalled from f in file \"[39]\", line 2, characters 27-36\nCalled from f in file \"[39]\", line 2, characters 27-36\nCalled from f in file \"[39]\", line 2, characters 27-36\nCalled from f in file \"[39]\", line 2, characters 27-36\nCalled from f in file \"[39]\", line 2, characters 27-36\nCalled from f in file \"[39]\", line 2, characters 27-36\nCalled from f in file \"[39]\", line 2, characters 27-36\nCalled from f in file \"[39]\", line 2, characters 27-36\nCalled from f in file \"[39]\", line 2, characters 27-36\nCalled from f in file \"[39]\", line 2, characters 27-36\nCalled from f in file \"[39]\", line 2, characters 27-36\nCalled from f in file \"[39]\", line 2, characters 27-36\nCalled from f in file \"[39]\", line 2, characters 27-36\nCalled from f in file \"[39]\", line 2, characters 27-36\nCalled from f in file \"[39]\", line 2, characters 27-36\nCalled from f in file \"[39]\", line 2, characters 27-36\nCalled from f in file \"[39]\", line 2, characters 27-36\nCalled from f in file \"[39]\", line 2, characters 27-36\nCalled from f in file \"[39]\", line 2, characters 27-36\nCalled from f in file \"[39]\", line 2, characters 27-36\nCalled from f in file \"[39]\", line 2, characters 27-36\nCalled from f in file \"[39]\", line 2, characters 27-36\nCalled from f in file \"[39]\", line 2, characters 27-36\nCalled from f in file \"[39]\", line 2, characters 27-36\nCalled from f in file \"[39]\", line 2, characters 27-36\nCalled from f in file \"[39]\", line 2, characters 27-36\nCalled from f in file \"[39]\", line 2, characters 27-36\nCalled from f in file \"[39]\", line 2, characters 27-36\nCalled from f in file \"[39]\", line 2, characters 27-36\nCalled from f in file \"[39]\", line 2, characters 27-36\nCalled from f in file \"[39]\", line 2, characters 27-36\nCalled from f in file \"[39]\", line 2, characters 27-36\nCalled from f in file \"[39]\", line 2, characters 27-36\nCalled from f in file \"[39]\", line 2, characters 27-36\nCalled from f in file \"[39]\", line 2, characters 27-36\nCalled from f in file \"[39]\", line 2, characters 27-36\nCalled from f in file \"[39]\", line 2, characters 27-36\nCalled from f in file \"[39]\", line 2, characters 27-36\nCalled from f in file \"[39]\", line 2, characters 27-36\nCalled from f in file \"[39]\", line 2, characters 27-36\nCalled from f in file \"[39]\", line 2, characters 27-36\nCalled from f in file \"[39]\", line 2, characters 27-36\nCalled from f in file \"[39]\", line 2, characters 27-36\nCalled from f in file \"[39]\", line 2, characters 27-36\nCalled from f in file \"[39]\", line 2, characters 27-36\nCalled from f in file \"[39]\", line 2, characters 27-36\nCalled from f in file \"[39]\", line 2, characters 27-36\nCalled from f in file \"[39]\", line 2, characters 27-36\nCalled from f in file \"[39]\", line 2, characters 27-36\nCalled from f in file \"[39]\", line 2, characters 27-36\nCalled from f in file \"[39]\", line 2, characters 27-36\nCalled from f in file \"[39]\", line 2, characters 27-36\nCalled from f in file \"[39]\", line 2, characters 27-36\nCalled from f in file \"[39]\", line 2, characters 27-36\nCalled from f in file \"[39]\", line 2, characters 27-36\nCalled from f in file \"[39]\", line 2, characters 27-36\nCalled from f in file \"[39]\", line 2, characters 27-36\nCalled from f in file \"[39]\", line 2, characters 27-36\nCalled from f in file \"[39]\", line 2, characters 27-36\nCalled from f in file \"[39]\", line 2, characters 27-36\nCalled from f in file \"[39]\", line 2, characters 27-36\nCalled from f in file \"[39]\", line 2, characters 27-36\nCalled from f in file \"[39]\", line 2, characters 27-36\nCalled from f in file \"[39]\", line 2, characters 27-36\nCalled from f in file \"[39]\", line 2, characters 27-36\nCalled from f in file \"[39]\", line 2, characters 27-36\nCalled from f in file \"[39]\", line 2, characters 27-36\nCalled from f in file \"[39]\", line 2, characters 27-36\nCalled from f in file \"[39]\", line 2, characters 27-36\nCalled from f in file \"[39]\", line 2, characters 27-36\nCalled from f in file \"[39]\", line 2, characters 27-36\nCalled from f in file \"[39]\", line 2, characters 27-36\nCalled from f in file \"[39]\", line 2, characters 27-36\nCalled from f in file \"[39]\", line 2, characters 27-36\nCalled from f in file \"[39]\", line 2, characters 27-36\nCalled from f in file \"[39]\", line 2, characters 27-36\nCalled from f in file \"[39]\", line 2, characters 27-36\nCalled from f in file \"[39]\", line 2, characters 27-36\nCalled from f in file \"[39]\", line 2, characters 27-36\nCalled from f in file \"[39]\", line 2, characters 27-36\nCalled from f in file \"[39]\", line 2, characters 27-36\nCalled from f in file \"[39]\", line 2, characters 27-36\nCalled from f in file \"[39]\", line 2, characters 27-36\nCalled from f in file \"[39]\", line 2, characters 27-36\nCalled from f in file \"[39]\", line 2, characters 27-36\nCalled from f in file \"[39]\", line 2, characters 27-36\nCalled from f in file \"[39]\", line 2, characters 27-36\nCalled from f in file \"[39]\", line 2, characters 27-36\nCalled from f in file \"[39]\", line 2, characters 27-36\nCalled from f in file \"[39]\", line 2, characters 27-36\nCalled from f in file \"[39]\", line 2, characters 27-36\nCalled from f in file \"[39]\", line 2, characters 27-36\nCalled from f in file \"[39]\", line 2, characters 27-36\nCalled from f in file \"[39]\", line 2, characters 27-36\nCalled from f in file \"[39]\", line 2, characters 27-36\nCalled from f in file \"[39]\", line 2, characters 27-36\nCalled from f in file \"[39]\", line 2, characters 27-36\nCalled from f in file \"[39]\", line 2, characters 27-36\nCalled from f in file \"[39]\", line 2, characters 27-36\nCalled from f in file \"[39]\", line 2, characters 27-36\nCalled from f in file \"[39]\", line 2, characters 27-36\nCalled from f in file \"[39]\", line 2, characters 27-36\nCalled from f in file \"[39]\", line 2, characters 27-36\nCalled from f in file \"[39]\", line 2, characters 27-36\nCalled from f in file \"[39]\", line 2, characters 27-36\nCalled from f in file \"[39]\", line 2, characters 27-36\nCalled from f in file \"[39]\", line 2, characters 27-36\nCalled from f in file \"[39]\", line 2, characters 27-36\nCalled from f in file \"[39]\", line 2, characters 27-36\nCalled from f in file \"[39]\", line 2, characters 27-36\nCalled from f in file \"[39]\", line 2, characters 27-36\nCalled from f in file \"[39]\", line 2, characters 27-36\nCalled from f in file \"[39]\", line 2, characters 27-36\nCalled from f in file \"[39]\", line 2, characters 27-36\nCalled from f in file \"[39]\", line 2, characters 27-36\nCalled from f in file \"[39]\", line 2, characters 27-36\nCalled from f in file \"[39]\", line 2, characters 27-36\nCalled from f in file \"[39]\", line 2, characters 27-36\nCalled from f in file \"[39]\", line 2, characters 27-36\nCalled from f in file \"[39]\", line 2, characters 27-36\nCalled from f in file \"[39]\", line 2, characters 27-36\nCalled from f in file \"[39]\", line 2, characters 27-36\nCalled from f in file \"[39]\", line 2, characters 27-36\nCalled from f in file \"[39]\", line 2, characters 27-36\nCalled from f in file \"[39]\", line 2, characters 27-36\nCalled from f in file \"[39]\", line 2, characters 27-36\nCalled from f in file \"[39]\", line 2, characters 27-36\nCalled from f in file \"[39]\", line 2, characters 27-36\nCalled from f in file \"[39]\", line 2, characters 27-36\nCalled from f in file \"[39]\", line 2, characters 27-36\nCalled from f in file \"[39]\", line 2, characters 27-36\nCalled from f in file \"[39]\", line 2, characters 27-36\nCalled from f in file \"[39]\", line 2, characters 27-36\nCalled from f in file \"[39]\", line 2, characters 27-36\nCalled from f in file \"[39]\", line 2, characters 27-36\nCalled from f in file \"[39]\", line 2, characters 27-36\nCalled from f in file \"[39]\", line 2, characters 27-36\nCalled from f in file \"[39]\", line 2, characters 27-36\nCalled from f in file \"[39]\", line 2, characters 27-36\nCalled from f in file \"[39]\", line 2, characters 27-36\nCalled from f in file \"[39]\", line 2, characters 27-36\nCalled from f in file \"[39]\", line 2, characters 27-36\nCalled from f in file \"[39]\", line 2, characters 27-36\nCalled from f in file \"[39]\", line 2, characters 27-36\nCalled from f in file \"[39]\", line 2, characters 27-36\nCalled from f in file \"[39]\", line 2, characters 27-36\nCalled from f in file \"[39]\", line 2, characters 27-36\nCalled from f in file \"[39]\", line 2, characters 27-36\nCalled from f in file \"[39]\", line 2, characters 27-36\nCalled from f in file \"[39]\", line 2, characters 27-36\nCalled from f in file \"[39]\", line 2, characters 27-36\nCalled from f in file \"[39]\", line 2, characters 27-36\nCalled from f in file \"[39]\", line 2, characters 27-36\nCalled from f in file \"[39]\", line 2, characters 27-36\nCalled from f in file \"[39]\", line 2, characters 27-36\nCalled from f in file \"[39]\", line 2, characters 27-36\nCalled from f in file \"[39]\", line 2, characters 27-36\nCalled from f in file \"[39]\", line 2, characters 27-36\nCalled from f in file \"[39]\", line 2, characters 27-36\nCalled from f in file \"[39]\", line 2, characters 27-36\nCalled from f in file \"[39]\", line 2, characters 27-36\nCalled from f in file \"[39]\", line 2, characters 27-36\nCalled from f in file \"[39]\", line 2, characters 27-36\nCalled from f in file \"[39]\", line 2, characters 27-36\nCalled from f in file \"[39]\", line 2, characters 27-36\nCalled from f in file \"[39]\", line 2, characters 27-36\nCalled from f in file \"[39]\", line 2, characters 27-36\nCalled from f in file \"[39]\", line 2, characters 27-36\nCalled from f in file \"[39]\", line 2, characters 27-36\nCalled from f in file \"[39]\", line 2, characters 27-36\nCalled from f in file \"[39]\", line 2, characters 27-36\nCalled from f in file \"[39]\", line 2, characters 27-36\nCalled from f in file \"[39]\", line 2, characters 27-36\nCalled from f in file \"[39]\", line 2, characters 27-36\nCalled from f in file \"[39]\", line 2, characters 27-36\nCalled from f in file \"[39]\", line 2, characters 27-36\nCalled from f in file \"[39]\", line 2, characters 27-36\nCalled from f in file \"[39]\", line 2, characters 27-36\nCalled from f in file \"[39]\", line 2, characters 27-36\nCalled from f in file \"[39]\", line 2, characters 27-36\nCalled from f in file \"[39]\", line 2, characters 27-36\nCalled from f in file \"[39]\", line 2, characters 27-36\nCalled from f in file \"[39]\", line 2, characters 27-36\nCalled from f in file \"[39]\", line 2, characters 27-36\nCalled from f in file \"[39]\", line 2, characters 27-36\nCalled from f in file \"[39]\", line 2, characters 27-36\nCalled from f in file \"[39]\", line 2, characters 27-36\nCalled from f in file \"[39]\", line 2, characters 27-36\nCalled from f in file \"[39]\", line 2, characters 27-36\nCalled from f in file \"[39]\", line 2, characters 27-36\nCalled from f in file \"[39]\", line 2, characters 27-36\nCalled from f in file \"[39]\", line 2, characters 27-36\nCalled from f in file \"[39]\", line 2, characters 27-36\nCalled from f in file \"[39]\", line 2, characters 27-36\nCalled from f in file \"[39]\", line 2, characters 27-36\nCalled from f in file \"[39]\", line 2, characters 27-36\nCalled from f in file \"[39]\", line 2, characters 27-36\nCalled from f in file \"[39]\", line 2, characters 27-36\nCalled from f in file \"[39]\", line 2, characters 27-36\nCalled from f in file \"[39]\", line 2, characters 27-36\nCalled from f in file \"[39]\", line 2, characters 27-36\nCalled from f in file \"[39]\", line 2, characters 27-36\nCalled from f in file \"[39]\", line 2, characters 27-36\nCalled from f in file \"[39]\", line 2, characters 27-36\nCalled from f in file \"[39]\", line 2, characters 27-36\nCalled from f in file \"[39]\", line 2, characters 27-36\nCalled from f in file \"[39]\", line 2, characters 27-36\nCalled from f in file \"[39]\", line 2, characters 27-36\nCalled from f in file \"[39]\", line 2, characters 27-36\nCalled from f in file \"[39]\", line 2, characters 27-36\nCalled from f in file \"[39]\", line 2, characters 27-36\nCalled from f in file \"[39]\", line 2, characters 27-36\nCalled from f in file \"[39]\", line 2, characters 27-36\nCalled from f in file \"[39]\", line 2, characters 27-36\nCalled from f in file \"[39]\", line 2, characters 27-36\nCalled from f in file \"[39]\", line 2, characters 27-36\nCalled from f in file \"[39]\", line 2, characters 27-36\nCalled from f in file \"[39]\", line 2, characters 27-36\nCalled from f in file \"[39]\", line 2, characters 27-36\nCalled from f in file \"[39]\", line 2, characters 27-36\nCalled from f in file \"[39]\", line 2, characters 27-36\nCalled from f in file \"[39]\", line 2, characters 27-36\nCalled from f in file \"[39]\", line 2, characters 27-36\nCalled from f in file \"[39]\", line 2, characters 27-36\nCalled from f in file \"[39]\", line 2, characters 27-36\nCalled from f in file \"[39]\", line 2, characters 27-36\nCalled from f in file \"[39]\", line 2, characters 27-36\nCalled from f in file \"[39]\", line 2, characters 27-36\nCalled from f in file \"[39]\", line 2, characters 27-36\nCalled from f in file \"[39]\", line 2, characters 27-36\nCalled from f in file \"[39]\", line 2, characters 27-36\nCalled from f in file \"[39]\", line 2, characters 27-36\nCalled from f in file \"[39]\", line 2, characters 27-36\nCalled from f in file \"[39]\", line 2, characters 27-36\nCalled from f in file \"[39]\", line 2, characters 27-36\nCalled from f in file \"[39]\", line 2, characters 27-36\nCalled from f in file \"[39]\", line 2, characters 27-36\nCalled from f in file \"[39]\", line 2, characters 27-36\nCalled from f in file \"[39]\", line 2, characters 27-36\nCalled from f in file \"[39]\", line 2, characters 27-36\nCalled from f in file \"[39]\", line 2, characters 27-36\nCalled from f in file \"[39]\", line 2, characters 27-36\nCalled from f in file \"[39]\", line 2, characters 27-36\nCalled from f in file \"[39]\", line 2, characters 27-36\nCalled from f in file \"[39]\", line 2, characters 27-36\nCalled from f in file \"[39]\", line 2, characters 27-36\nCalled from f in file \"[39]\", line 2, characters 27-36\nCalled from f in file \"[39]\", line 2, characters 27-36\nCalled from f in file \"[39]\", line 2, characters 27-36\nCalled from f in file \"[39]\", line 2, characters 27-36\nCalled from f in file \"[39]\", line 2, characters 27-36\nCalled from f in file \"[39]\", line 2, characters 27-36\nCalled from f in file \"[39]\", line 2, characters 27-36\nCalled from f in file \"[39]\", line 2, characters 27-36\nCalled from f in file \"[39]\", line 2, characters 27-36\nCalled from f in file \"[39]\", line 2, characters 27-36\nCalled from f in file \"[39]\", line 2, characters 27-36\nCalled from f in file \"[39]\", line 2, characters 27-36\nCalled from f in file \"[39]\", line 2, characters 27-36\nCalled from f in file \"[39]\", line 2, characters 27-36\nCalled from f in file \"[39]\", line 2, characters 27-36\nCalled from f in file \"[39]\", line 2, characters 27-36\nCalled from f in file \"[39]\", line 2, characters 27-36\nCalled from f in file \"[39]\", line 2, characters 27-36\nCalled from f in file \"[39]\", line 2, characters 27-36\nCalled from f in file \"[39]\", line 2, characters 27-36\nCalled from f in file \"[39]\", line 2, characters 27-36\nCalled from f in file \"[39]\", line 2, characters 27-36\nCalled from f in file \"[39]\", line 2, characters 27-36\nCalled from f in file \"[39]\", line 2, characters 27-36\nCalled from f in file \"[39]\", line 2, characters 27-36\nCalled from f in file \"[39]\", line 2, characters 27-36\nCalled from f in file \"[39]\", line 2, characters 27-36\nCalled from f in file \"[39]\", line 2, characters 27-36\nCalled from f in file \"[39]\", line 2, characters 27-36\nCalled from f in file \"[39]\", line 2, characters 27-36\nCalled from f in file \"[39]\", line 2, characters 27-36\nCalled from f in file \"[39]\", line 2, characters 27-36\nCalled from f in file \"[39]\", line 2, characters 27-36\nCalled from f in file \"[39]\", line 2, characters 27-36\nCalled from f in file \"[39]\", line 2, characters 27-36\nCalled from f in file \"[39]\", line 2, characters 27-36\nCalled from f in file \"[39]\", line 2, characters 27-36\nCalled from f in file \"[39]\", line 2, characters 27-36\nCalled from f in file \"[39]\", line 2, characters 27-36\nCalled from f in file \"[39]\", line 2, characters 27-36\nCalled from f in file \"[39]\", line 2, characters 27-36\nCalled from f in file \"[39]\", line 2, characters 27-36\nCalled from f in file \"[39]\", line 2, characters 27-36\nCalled from f in file \"[39]\", line 2, characters 27-36\nCalled from f in file \"[39]\", line 2, characters 27-36\nCalled from f in file \"[39]\", line 2, characters 27-36\nCalled from f in file \"[39]\", line 2, characters 27-36\nCalled from f in file \"[39]\", line 2, characters 27-36\nCalled from f in file \"[39]\", line 2, characters 27-36\nCalled from f in file \"[39]\", line 2, characters 27-36\nCalled from f in file \"[39]\", line 2, characters 27-36\nCalled from f in file \"[39]\", line 2, characters 27-36\nCalled from f in file \"[39]\", line 2, characters 27-36\nCalled from f in file \"[39]\", line 2, characters 27-36\nCalled from f in file \"[39]\", line 2, characters 27-36\nCalled from f in file \"[39]\", line 2, characters 27-36\nCalled from f in file \"[39]\", line 2, characters 27-36\nCalled from f in file \"[39]\", line 2, characters 27-36\nCalled from f in file \"[39]\", line 2, characters 27-36\nCalled from f in file \"[39]\", line 2, characters 27-36\nCalled from f in file \"[39]\", line 2, characters 27-36\nCalled from f in file \"[39]\", line 2, characters 27-36\nCalled from f in file \"[39]\", line 2, characters 27-36\nCalled from f in file \"[39]\", line 2, characters 27-36\nCalled from f in file \"[39]\", line 2, characters 27-36\nCalled from f in file \"[39]\", line 2, characters 27-36\nCalled from f in file \"[39]\", line 2, characters 27-36\nCalled from f in file \"[39]\", line 2, characters 27-36\nCalled from f in file \"[39]\", line 2, characters 27-36\nCalled from f in file \"[39]\", line 2, characters 27-36\nCalled from f in file \"[39]\", line 2, characters 27-36\nCalled from f in file \"[39]\", line 2, characters 27-36\nCalled from f in file \"[39]\", line 2, characters 27-36\nCalled from f in file \"[39]\", line 2, characters 27-36\nCalled from f in file \"[39]\", line 2, characters 27-36\nCalled from f in file \"[39]\", line 2, characters 27-36\nCalled from f in file \"[39]\", line 2, characters 27-36\nCalled from f in file \"[39]\", line 2, characters 27-36\nCalled from f in file \"[39]\", line 2, characters 27-36\nCalled from f in file \"[39]\", line 2, characters 27-36\nCalled from f in file \"[39]\", line 2, characters 27-36\nCalled from f in file \"[39]\", line 2, characters 27-36\nCalled from f in file \"[39]\", line 2, characters 27-36\nCalled from f in file \"[39]\", line 2, characters 27-36\nCalled from f in file \"[39]\", line 2, characters 27-36\nCalled from f in file \"[39]\", line 2, characters 27-36\nCalled from f in file \"[39]\", line 2, characters 27-36\nCalled from f in file \"[39]\", line 2, characters 27-36\nCalled from f in file \"[39]\", line 2, characters 27-36\nCalled from f in file \"[39]\", line 2, characters 27-36\nCalled from f in file \"[39]\", line 2, characters 27-36\nCalled from f in file \"[39]\", line 2, characters 27-36\nCalled from f in file \"[39]\", line 2, characters 27-36\nCalled from f in file \"[39]\", line 2, characters 27-36\nCalled from f in file \"[39]\", line 2, characters 27-36\nCalled from f in file \"[39]\", line 2, characters 27-36\nCalled from f in file \"[39]\", line 2, characters 27-36\nCalled from f in file \"[39]\", line 2, characters 27-36\nCalled from f in file \"[39]\", line 2, characters 27-36\nCalled from f in file \"[39]\", line 2, characters 27-36\nCalled from f in file \"[39]\", line 2, characters 27-36\nCalled from f in file \"[39]\", line 2, characters 27-36\nCalled from f in file \"[39]\", line 2, characters 27-36\nCalled from f in file \"[39]\", line 2, characters 27-36\nCalled from f in file \"[39]\", line 2, characters 27-36\nCalled from f in file \"[39]\", line 2, characters 27-36\nCalled from f in file \"[39]\", line 2, characters 27-36\nCalled from f in file \"[39]\", line 2, characters 27-36\nCalled from f in file \"[39]\", line 2, characters 27-36\nCalled from f in file \"[39]\", line 2, characters 27-36\nCalled from f in file \"[39]\", line 2, characters 27-36\nCalled from f in file \"[39]\", line 2, characters 27-36\nCalled from f in file \"[39]\", line 2, characters 27-36\nCalled from f in file \"[39]\", line 2, characters 27-36\nCalled from f in file \"[39]\", line 2, characters 27-36\nCalled from f in file \"[39]\", line 2, characters 27-36\nCalled from f in file \"[39]\", line 2, characters 27-36\nCalled from f in file \"[39]\", line 2, characters 27-36\nCalled from f in file \"[39]\", line 2, characters 27-36\nCalled from f in file \"[39]\", line 2, characters 27-36\nCalled from f in file \"[39]\", line 2, characters 27-36\nCalled from f in file \"[39]\", line 2, characters 27-36\nCalled from f in file \"[39]\", line 2, characters 27-36\nCalled from f in file \"[39]\", line 2, characters 27-36\nCalled from f in file \"[39]\", line 2, characters 27-36\nCalled from f in file \"[39]\", line 2, characters 27-36\nCalled from f in file \"[39]\", line 2, characters 27-36\nCalled from f in file \"[39]\", line 2, characters 27-36\nCalled from f in file \"[39]\", line 2, characters 27-36\nCalled from f in file \"[39]\", line 2, characters 27-36\nCalled from f in file \"[39]\", line 2, characters 27-36\nCalled from f in file \"[39]\", line 2, characters 27-36\nCalled from f in file \"[39]\", line 2, characters 27-36\nCalled from f in file \"[39]\", line 2, characters 27-36\nCalled from f in file \"[39]\", line 2, characters 27-36\nCalled from f in file \"[39]\", line 2, characters 27-36\nCalled from f in file \"[39]\", line 2, characters 27-36\nCalled from f in file \"[39]\", line 2, characters 27-36\nCalled from f in file \"[39]\", line 2, characters 27-36\nCalled from f in file \"[39]\", line 2, characters 27-36\nCalled from f in file \"[39]\", line 2, characters 27-36\nCalled from f in file \"[39]\", line 2, characters 27-36\nCalled from f in file \"[39]\", line 2, characters 27-36\nCalled from f in file \"[39]\", line 2, characters 27-36\nCalled from f in file \"[39]\", line 2, characters 27-36\nCalled from f in file \"[39]\", line 2, characters 27-36\nCalled from f in file \"[39]\", line 2, characters 27-36\nCalled from f in file \"[39]\", line 2, characters 27-36\nCalled from f in file \"[39]\", line 2, characters 27-36\nCalled from f in file \"[39]\", line 2, characters 27-36\nCalled from f in file \"[39]\", line 2, characters 27-36\nCalled from f in file \"[39]\", line 2, characters 27-36\nCalled from f in file \"[39]\", line 2, characters 27-36\nCalled from f in file \"[39]\", line 2, characters 27-36\nCalled from f in file \"[39]\", line 2, characters 27-36\nCalled from f in file \"[39]\", line 2, characters 27-36\nCalled from f in file \"[39]\", line 2, characters 27-36\nCalled from f in file \"[39]\", line 2, characters 27-36\nCalled from f in file \"[39]\", line 2, characters 27-36\nCalled from f in file \"[39]\", line 2, characters 27-36\nCalled from f in file \"[39]\", line 2, characters 27-36\nCalled from f in file \"[39]\", line 2, characters 27-36\nCalled from f in file \"[39]\", line 2, characters 27-36\nCalled from f in file \"[39]\", line 2, characters 27-36\nCalled from f in file \"[39]\", line 2, characters 27-36\nCalled from f in file \"[39]\", line 2, characters 27-36\nCalled from f in file \"[39]\", line 2, characters 27-36\nCalled from f in file \"[39]\", line 2, characters 27-36\nCalled from f in file \"[39]\", line 2, characters 27-36\nCalled from f in file \"[39]\", line 2, characters 27-36\nCalled from f in file \"[39]\", line 2, characters 27-36\nCalled from f in file \"[39]\", line 2, characters 27-36\nCalled from f in file \"[39]\", line 2, characters 27-36\nCalled from f in file \"[39]\", line 2, characters 27-36\nCalled from f in file \"[39]\", line 2, characters 27-36\nCalled from f in file \"[39]\", line 2, characters 27-36\nCalled from f in file \"[39]\", line 2, characters 27-36\nCalled from f in file \"[39]\", line 2, characters 27-36\nCalled from f in file \"[39]\", line 2, characters 27-36\nCalled from f in file \"[39]\", line 2, characters 27-36\nCalled from f in file \"[39]\", line 2, characters 27-36\nCalled from f in file \"[39]\", line 2, characters 27-36\nCalled from f in file \"[39]\", line 2, characters 27-36\nCalled from f in file \"[39]\", line 2, characters 27-36\nCalled from f in file \"[39]\", line 2, characters 27-36\nCalled from f in file \"[39]\", line 2, characters 27-36\nCalled from f in file \"[39]\", line 2, characters 27-36\nCalled from f in file \"[39]\", line 2, characters 27-36\nCalled from f in file \"[39]\", line 2, characters 27-36\nCalled from f in file \"[39]\", line 2, characters 27-36\nCalled from f in file \"[39]\", line 2, characters 27-36\nCalled from f in file \"[39]\", line 2, characters 27-36\nCalled from f in file \"[39]\", line 2, characters 27-36\nCalled from f in file \"[39]\", line 2, characters 27-36\nCalled from f in file \"[39]\", line 2, characters 27-36\nCalled from f in file \"[39]\", line 2, characters 27-36\nCalled from f in file \"[39]\", line 2, characters 27-36\nCalled from f in file \"[39]\", line 2, characters 27-36\nCalled from f in file \"[39]\", line 2, characters 27-36\nCalled from f in file \"[39]\", line 2, characters 27-36\nCalled from f in file \"[39]\", line 2, characters 27-36\nCalled from f in file \"[39]\", line 2, characters 27-36\nCalled from f in file \"[39]\", line 2, characters 27-36\nCalled from f in file \"[39]\", line 2, characters 27-36\nCalled from f in file \"[39]\", line 2, characters 27-36\nCalled from f in file \"[39]\", line 2, characters 27-36\nCalled from f in file \"[39]\", line 2, characters 27-36\nCalled from f in file \"[39]\", line 2, characters 27-36\nCalled from f in file \"[39]\", line 2, characters 27-36\nCalled from f in file \"[39]\", line 2, characters 27-36\nCalled from f in file \"[39]\", line 2, characters 27-36\nCalled from f in file \"[39]\", line 2, characters 27-36\nCalled from f in file \"[39]\", line 2, characters 27-36\nCalled from f in file \"[39]\", line 2, characters 27-36\nCalled from f in file \"[39]\", line 2, characters 27-36\nCalled from f in file \"[39]\", line 2, characters 27-36\nCalled from f in file \"[39]\", line 2, characters 27-36\nCalled from f in file \"[39]\", line 2, characters 27-36\nCalled from f in file \"[39]\", line 2, characters 27-36\nCalled from f in file \"[39]\", line 2, characters 27-36\nCalled from f in file \"[39]\", line 2, characters 27-36\nCalled from f in file \"[39]\", line 2, characters 27-36\nCalled from f in file \"[39]\", line 2, characters 27-36\nCalled from f in file \"[39]\", line 2, characters 27-36\nCalled from f in file \"[39]\", line 2, characters 27-36\nCalled from f in file \"[39]\", line 2, characters 27-36\nCalled from f in file \"[39]\", line 2, characters 27-36\nCalled from f in file \"[39]\", line 2, characters 27-36\nCalled from f in file \"[39]\", line 2, characters 27-36\nCalled from f in file \"[39]\", line 2, characters 27-36\nCalled from f in file \"[39]\", line 2, characters 27-36\nCalled from f in file \"[39]\", line 2, characters 27-36\nCalled from f in file \"[39]\", line 2, characters 27-36\nCalled from f in file \"[39]\", line 2, characters 27-36\nCalled from f in file \"[39]\", line 2, characters 27-36\nCalled from f in file \"[39]\", line 2, characters 27-36\nCalled from f in file \"[39]\", line 2, characters 27-36\nCalled from f in file \"[39]\", line 2, characters 27-36\nCalled from f in file \"[39]\", line 2, characters 27-36\nCalled from f in file \"[39]\", line 2, characters 27-36\nCalled from f in file \"[39]\", line 2, characters 27-36\nCalled from f in file \"[39]\", line 2, characters 27-36\nCalled from f in file \"[39]\", line 2, characters 27-36\nCalled from f in file \"[39]\", line 2, characters 27-36\nCalled from f in file \"[39]\", line 2, characters 27-36\nCalled from f in file \"[39]\", line 2, characters 27-36\nCalled from f in file \"[39]\", line 2, characters 27-36\nCalled from f in file \"[39]\", line 2, characters 27-36\nCalled from f in file \"[39]\", line 2, characters 27-36\nCalled from f in file \"[39]\", line 2, characters 27-36\nCalled from f in file \"[39]\", line 2, characters 27-36\nCalled from f in file \"[39]\", line 2, characters 27-36\nCalled from f in file \"[39]\", line 2, characters 27-36\nCalled from f in file \"[39]\", line 2, characters 27-36\nCalled from f in file \"[39]\", line 2, characters 27-36\nCalled from f in file \"[39]\", line 2, characters 27-36\nCalled from f in file \"[39]\", line 2, characters 27-36\nCalled from f in file \"[39]\", line 2, characters 27-36\nCalled from f in file \"[39]\", line 2, characters 27-36\nCalled from f in file \"[39]\", line 2, characters 27-36\nCalled from f in file \"[39]\", line 2, characters 27-36\nCalled from f in file \"[39]\", line 2, characters 27-36\nCalled from f in file \"[39]\", line 2, characters 27-36\nCalled from f in file \"[39]\", line 2, characters 27-36\nCalled from f in file \"[39]\", line 2, characters 27-36\nCalled from f in file \"[39]\", line 2, characters 27-36\nCalled from f in file \"[39]\", line 2, characters 27-36\nCalled from f in file \"[39]\", line 2, characters 27-36\nCalled from f in file \"[39]\", line 2, characters 27-36\nCalled from f in file \"[39]\", line 2, characters 27-36\nCalled from f in file \"[39]\", line 2, characters 27-36\nCalled from f in file \"[39]\", line 2, characters 27-36\nCalled from f in file \"[39]\", line 2, characters 27-36\nCalled from f in file \"[39]\", line 2, characters 27-36\nCalled from f in file \"[39]\", line 2, characters 27-36\nCalled from f in file \"[39]\", line 2, characters 27-36\nCalled from f in file \"[39]\", line 2, characters 27-36\nCalled from f in file \"[39]\", line 2, characters 27-36\nCalled from f in file \"[39]\", line 2, characters 27-36\nCalled from f in file \"[39]\", line 2, characters 27-36\nCalled from f in file \"[39]\", line 2, characters 27-36\nCalled from f in file \"[39]\", line 2, characters 27-36\nCalled from f in file \"[39]\", line 2, characters 27-36\nCalled from f in file \"[39]\", line 2, characters 27-36\nCalled from f in file \"[39]\", line 2, characters 27-36\nCalled from f in file \"[39]\", line 2, characters 27-36\nCalled from f in file \"[39]\", line 2, characters 27-36\nCalled from f in file \"[39]\", line 2, characters 27-36\nCalled from f in file \"[39]\", line 2, characters 27-36\nCalled from f in file \"[39]\", line 2, characters 27-36\nCalled from f in file \"[39]\", line 2, characters 27-36\nCalled from f in file \"[39]\", line 2, characters 27-36\nCalled from f in file \"[39]\", line 2, characters 27-36\nCalled from f in file \"[39]\", line 2, characters 27-36\nCalled from f in file \"[39]\", line 2, characters 27-36\nCalled from f in file \"[39]\", line 2, characters 27-36\nCalled from f in file \"[39]\", line 2, characters 27-36\nCalled from f in file \"[39]\", line 2, characters 27-36\nCalled from f in file \"[39]\", line 2, characters 27-36\nCalled from f in file \"[39]\", line 2, characters 27-36\nCalled from f in file \"[39]\", line 2, characters 27-36\nCalled from f in file \"[39]\", line 2, characters 27-36\nCalled from f in file \"[39]\", line 2, characters 27-36\nCalled from f in file \"[39]\", line 2, characters 27-36\nCalled from f in file \"[39]\", line 2, characters 27-36\nCalled from f in file \"[39]\", line 2, characters 27-36\nCalled from f in file \"[39]\", line 2, characters 27-36\nCalled from f in file \"[39]\", line 2, characters 27-36\nCalled from f in file \"[39]\", line 2, characters 27-36\nCalled from f in file \"[39]\", line 2, characters 27-36\nCalled from f in file \"[39]\", line 2, characters 27-36\nCalled from f in file \"[39]\", line 2, characters 27-36\nCalled from f in file \"[39]\", line 2, characters 27-36\nCalled from f in file \"[39]\", line 2, characters 27-36\nCalled from f in file \"[39]\", line 2, characters 27-36\nCalled from f in file \"[39]\", line 2, characters 27-36\nCalled from f in file \"[39]\", line 2, characters 27-36\nCalled from f in file \"[39]\", line 2, characters 27-36\nCalled from f in file \"[39]\", line 2, characters 27-36\nCalled from f in file \"[39]\", line 2, characters 27-36\nCalled from f in file \"[39]\", line 2, characters 27-36\nCalled from f in file \"[39]\", line 2, characters 27-36\nCalled from f in file \"[39]\", line 2, characters 27-36\nCalled from f in file \"[39]\", line 2, characters 27-36\nCalled from f in file \"[39]\", line 2, characters 27-36\nCalled from f in file \"[39]\", line 2, characters 27-36\nCalled from f in file \"[39]\", line 2, characters 27-36\nCalled from f in file \"[39]\", line 2, characters 27-36\nCalled from f in file \"[39]\", line 2, characters 27-36\nCalled from f in file \"[39]\", line 2, characters 27-36\nCalled from f in file \"[39]\", line 2, characters 27-36\nCalled from f in file \"[39]\", line 2, characters 27-36\nCalled from f in file \"[39]\", line 2, characters 27-36\nCalled from f in file \"[39]\", line 2, characters 27-36\nCalled from f in file \"[39]\", line 2, characters 27-36\nCalled from f in file \"[39]\", line 2, characters 27-36\nCalled from f in file \"[39]\", line 2, characters 27-36\nCalled from f in file \"[39]\", line 2, characters 27-36\nCalled from f in file \"[39]\", line 2, characters 27-36\nCalled from f in file \"[39]\", line 2, characters 27-36\nCalled from f in file \"[39]\", line 2, characters 27-36\nCalled from f in file \"[39]\", line 2, characters 27-36\nCalled from f in file \"[39]\", line 2, characters 27-36\nCalled from f in file \"[39]\", line 2, characters 27-36\nCalled from f in file \"[39]\", line 2, characters 27-36\nCalled from f in file \"[39]\", line 2, characters 27-36\nCalled from f in file \"[39]\", line 2, characters 27-36\nCalled from f in file \"[39]\", line 2, characters 27-36\nCalled from f in file \"[39]\", line 2, characters 27-36\nCalled from f in file \"[39]\", line 2, characters 27-36\nCalled from f in file \"[39]\", line 2, characters 27-36\nCalled from f in file \"[39]\", line 2, characters 27-36\nCalled from f in file \"[39]\", line 2, characters 27-36\nCalled from f in file \"[39]\", line 2, characters 27-36\nCalled from f in file \"[39]\", line 2, characters 27-36\nCalled from f in file \"[39]\", line 2, characters 27-36\nCalled from f in file \"[39]\", line 2, characters 27-36\nCalled from f in file \"[39]\", line 2, characters 27-36\nCalled from f in file \"[39]\", line 2, characters 27-36\nCalled from f in file \"[39]\", line 2, characters 27-36\nCalled from f in file \"[39]\", line 2, characters 27-36\nCalled from f in file \"[39]\", line 2, characters 27-36\nCalled from f in file \"[39]\", line 2, characters 27-36\nCalled from f in file \"[39]\", line 2, characters 27-36\nCalled from f in file \"[39]\", line 2, characters 27-36\nCalled from f in file \"[39]\", line 2, characters 27-36\nCalled from f in file \"[39]\", line 2, characters 27-36\nCalled from f in file \"[39]\", line 2, characters 27-36\nCalled from f in file \"[39]\", line 2, characters 27-36\nCalled from f in file \"[39]\", line 2, characters 27-36\nCalled from f in file \"[39]\", line 2, characters 27-36\nCalled from f in file \"[39]\", line 2, characters 27-36\nCalled from f in file \"[39]\", line 2, characters 27-36\nCalled from f in file \"[39]\", line 2, characters 27-36\nCalled from f in file \"[39]\", line 2, characters 27-36\nCalled from f in file \"[39]\", line 2, characters 27-36\nCalled from f in file \"[39]\", line 2, characters 27-36\nCalled from f in file \"[39]\", line 2, characters 27-36\nCalled from f in file \"[39]\", line 2, characters 27-36\nCalled from f in file \"[39]\", line 2, characters 27-36\nCalled from f in file \"[39]\", line 2, characters 27-36\nCalled from f in file \"[39]\", line 2, characters 27-36\nCalled from f in file \"[39]\", line 2, characters 27-36\nCalled from f in file \"[39]\", line 2, characters 27-36\nCalled from f in file \"[39]\", line 2, characters 27-36\nCalled from f in file \"[39]\", line 2, characters 27-36\nCalled from f in file \"[39]\", line 2, characters 27-36\nCalled from f in file \"[39]\", line 2, characters 27-36\nCalled from f in file \"[39]\", line 2, characters 27-36\nCalled from f in file \"[39]\", line 2, characters 27-36\nCalled from f in file \"[39]\", line 2, characters 27-36\nCalled from f in file \"[39]\", line 2, characters 27-36\nCalled from f in file \"[39]\", line 2, characters 27-36\nCalled from f in file \"[39]\", line 2, characters 27-36\nCalled from f in file \"[39]\", line 2, characters 27-36\nCalled from f in file \"[39]\", line 2, characters 27-36\nCalled from f in file \"[39]\", line 2, characters 27-36\nCalled from f in file \"[39]\", line 2, characters 27-36\nCalled from f in file \"[39]\", line 2, characters 27-36\nCalled from f in file \"[39]\", line 2, characters 27-36\nCalled from f in file \"[39]\", line 2, characters 27-36\nCalled from f in file \"[39]\", line 2, characters 27-36\nCalled from f in file \"[39]\", line 2, characters 27-36\nCalled from f in file \"[39]\", line 2, characters 27-36\nCalled from f in file \"[39]\", line 2, characters 27-36\nCalled from f in file \"[39]\", line 2, characters 27-36\nCalled from f in file \"[39]\", line 2, characters 27-36\nCalled from f in file \"[39]\", line 2, characters 27-36\nCalled from f in file \"[39]\", line 2, characters 27-36\nCalled from f in file \"[39]\", line 2, characters 27-36\nCalled from f in file \"[39]\", line 2, characters 27-36\nCalled from f in file \"[39]\", line 2, characters 27-36\nCalled from f in file \"[39]\", line 2, characters 27-36\nCalled from f in file \"[39]\", line 2, characters 27-36\nCalled from f in file \"[39]\", line 2, characters 27-36\nCalled from f in file \"[39]\", line 2, characters 27-36\nCalled from f in file \"[39]\", line 2, characters 27-36\nCalled from f in file \"[39]\", line 2, characters 27-36\nCalled from f in file \"[39]\", line 2, characters 27-36\nCalled from f in file \"[39]\", line 2, characters 27-36\nCalled from f in file \"[39]\", line 2, characters 27-36\nCalled from f in file \"[39]\", line 2, characters 27-36\nCalled from f in file \"[39]\", line 2, characters 27-36\nCalled from f in file \"[39]\", line 2, characters 27-36\nCalled from f in file \"[39]\", line 2, characters 27-36\nCalled from f in file \"[39]\", line 2, characters 27-36\n\u001b[0m"
          ]
        }
      ],
      "source": [
        "f 300000"
      ]
    },
    {
      "cell_type": "code",
      "execution_count": 45,
      "metadata": {
        "vscode": {
          "languageId": "ocaml"
        }
      },
      "outputs": [
        {
          "data": {
            "text/plain": [
              "val f' : int -> int = <fun>\n"
            ]
          },
          "execution_count": 45,
          "metadata": {},
          "output_type": "execute_result"
        }
      ],
      "source": [
        "let f' x =\n",
        "  let rec aux acc x =\n",
        "    if x = 0 then acc else aux (acc + 1) (x - 1)\n",
        "  in\n",
        "  aux 0 x"
      ]
    },
    {
      "cell_type": "markdown",
      "metadata": {},
      "source": [
        "```ocaml\n",
        "  f' 3\n",
        "= aux 0 3\n",
        "= aux 1 2\n",
        "= aux 2 1\n",
        "= aux 3 0\n",
        "= 3\n",
        "```"
      ]
    },
    {
      "cell_type": "code",
      "execution_count": 47,
      "metadata": {
        "vscode": {
          "languageId": "ocaml"
        }
      },
      "outputs": [
        {
          "data": {
            "text/plain": [
              "- : int = 1000000000\n"
            ]
          },
          "execution_count": 47,
          "metadata": {},
          "output_type": "execute_result"
        }
      ],
      "source": [
        "f' 1000000000"
      ]
    },
    {
      "cell_type": "code",
      "execution_count": null,
      "metadata": {
        "vscode": {
          "languageId": "ocaml"
        }
      },
      "outputs": [],
      "source": []
    },
    {
      "cell_type": "code",
      "execution_count": null,
      "metadata": {
        "vscode": {
          "languageId": "ocaml"
        }
      },
      "outputs": [],
      "source": [
        "f' 100000000"
      ]
    },
    {
      "cell_type": "markdown",
      "metadata": {},
      "source": [
        "```python\n",
        "def f_crtica(x, acc=0):\n",
        "    if x == 0:\n",
        "        return acc\n",
        "    else:\n",
        "        return f_crtica(x - 1, acc=acc + 1)\n",
        "```"
      ]
    },
    {
      "cell_type": "markdown",
      "metadata": {
        "slideshow": {
          "slide_type": "slide"
        }
      },
      "source": [
        "### Repno rekurzivne funkcije na seznamih"
      ]
    },
    {
      "cell_type": "code",
      "execution_count": null,
      "metadata": {
        "vscode": {
          "languageId": "ocaml"
        }
      },
      "outputs": [],
      "source": [
        "let rec vsota sez =\n",
        "  match sez with\n",
        "  | [] -> 0\n",
        "  | h :: t -> h + vsota t"
      ]
    },
    {
      "cell_type": "markdown",
      "metadata": {},
      "source": [
        "```ocaml\n",
        "  vsota [1; 2; 3; 4; ...]\n",
        "= 1 + vsota [2; 3; 4; ...]\n",
        "= 1 + (2 + vsota [3; 4; ...])\n",
        "= 1 + (2 + (3 + vsota [4; ...]))\n",
        "= ...\n",
        "```"
      ]
    },
    {
      "cell_type": "code",
      "execution_count": null,
      "metadata": {
        "vscode": {
          "languageId": "ocaml"
        }
      },
      "outputs": [],
      "source": [
        "vsota (List.init 1000 (fun x -> x))"
      ]
    },
    {
      "cell_type": "code",
      "execution_count": null,
      "metadata": {
        "tags": [
          "raises-exception",
          "scroll-output"
        ],
        "vscode": {
          "languageId": "ocaml"
        }
      },
      "outputs": [],
      "source": [
        "vsota (List.init 1000000 (fun x -> x))"
      ]
    },
    {
      "cell_type": "code",
      "execution_count": null,
      "metadata": {
        "vscode": {
          "languageId": "ocaml"
        }
      },
      "outputs": [],
      "source": [
        "let rec vsota' sez =\n",
        "  ..."
      ]
    },
    {
      "cell_type": "code",
      "execution_count": null,
      "metadata": {
        "vscode": {
          "languageId": "ocaml"
        }
      },
      "outputs": [],
      "source": [
        "vsota' (List.init 1000000 (fun x -> x))"
      ]
    },
    {
      "cell_type": "code",
      "execution_count": null,
      "metadata": {
        "vscode": {
          "languageId": "ocaml"
        }
      },
      "outputs": [],
      "source": [
        "let rec dolzina =\n",
        "  function\n",
        "  | [] -> 0\n",
        "  | _ :: rep -> 1 + dolzina rep  "
      ]
    },
    {
      "cell_type": "code",
      "execution_count": null,
      "metadata": {
        "slideshow": {
          "slide_type": "fragment"
        },
        "vscode": {
          "languageId": "ocaml"
        }
      },
      "outputs": [],
      "source": [
        "let dolzina' seznam =\n",
        "  ..."
      ]
    },
    {
      "cell_type": "code",
      "execution_count": null,
      "metadata": {
        "vscode": {
          "languageId": "ocaml"
        }
      },
      "outputs": [],
      "source": [
        "dolzina' [1; 2; 3; 4; 1]"
      ]
    },
    {
      "cell_type": "code",
      "execution_count": null,
      "metadata": {
        "slideshow": {
          "slide_type": "fragment"
        },
        "vscode": {
          "languageId": "ocaml"
        }
      },
      "outputs": [],
      "source": [
        "dolzina [1; 2; 3; 4]"
      ]
    },
    {
      "cell_type": "code",
      "execution_count": null,
      "metadata": {
        "slideshow": {
          "slide_type": "fragment"
        },
        "vscode": {
          "languageId": "ocaml"
        }
      },
      "outputs": [],
      "source": [
        "let map' f seznam =\n",
        "  ..."
      ]
    },
    {
      "cell_type": "code",
      "execution_count": null,
      "metadata": {
        "slideshow": {
          "slide_type": "fragment"
        },
        "vscode": {
          "languageId": "ocaml"
        }
      },
      "outputs": [],
      "source": [
        "map' (fun x -> 10 * x) [1; 2; 3; 4]"
      ]
    },
    {
      "cell_type": "markdown",
      "metadata": {},
      "source": [
        "```ocaml\n",
        "  fold_right f [a; b; c] z\n",
        "= fold_right f (a :: b :: c :: []) z\n",
        "= f a (fold_right f (b :: c :: []) z)\n",
        "= f a (f b (fold_right f (c :: []) z))\n",
        "= f a (f b (f c (fold_right f [] z)))\n",
        "= f a (f b (f c z))\n",
        "```"
      ]
    },
    {
      "cell_type": "markdown",
      "metadata": {},
      "source": [
        "```ocaml\n",
        "  fold_left f z [a; b; c]\n",
        "= fold_left f z (a :: b :: c :: [])\n",
        "= fold_left f (f z a) (b :: c :: [])\n",
        "= fold_left f (f (f z a) b) (c :: [])\n",
        "= fold_left f (f (f (f z a) b) c) []\n",
        "= f (f (f z a) b) c\n",
        "```"
      ]
    }
  ],
  "metadata": {
    "celltoolbar": "Slideshow",
    "kernelspec": {
      "display_name": "OCaml 4.14",
      "language": "OCaml",
      "name": "ocaml-jupyter"
    },
    "language_info": {
      "codemirror_mode": "text/x-ocaml",
      "file_extension": ".ml",
      "mimetype": "text/x-ocaml",
      "name": "OCaml",
      "nbconverter_exporter": null,
      "pygments_lexer": "OCaml",
      "version": "4.14.2"
    }
  },
  "nbformat": 4,
  "nbformat_minor": 2
}
