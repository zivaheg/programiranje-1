{
 "cells": [
  {
   "cell_type": "markdown",
   "metadata": {},
   "source": [
    "# Podatkovni tipi"
   ]
  },
  {
   "cell_type": "markdown",
   "metadata": {},
   "source": [
    "## Okrajšave"
   ]
  },
  {
   "cell_type": "code",
   "execution_count": 1,
   "metadata": {
    "vscode": {
     "languageId": "ocaml"
    }
   },
   "outputs": [
    {
     "data": {
      "text/plain": [
       "val ( ++ ) :\n",
       "  float * float * float -> float * float * float -> float * float * float =\n",
       "  <fun>\n"
      ]
     },
     "execution_count": 1,
     "metadata": {},
     "output_type": "execute_result"
    }
   ],
   "source": [
    "let ( ++ ) (x1, y1, z1) (x2, y2, z2) = (x1 +. x2, y1 +. y2, z1 +. z2)"
   ]
  },
  {
   "cell_type": "code",
   "execution_count": 2,
   "metadata": {
    "vscode": {
     "languageId": "ocaml"
    }
   },
   "outputs": [
    {
     "data": {
      "text/plain": [
       "type r3 = float * float * float\n"
      ]
     },
     "execution_count": 2,
     "metadata": {},
     "output_type": "execute_result"
    }
   ],
   "source": [
    "type r3 = float * float * float"
   ]
  },
  {
   "cell_type": "code",
   "execution_count": 4,
   "metadata": {
    "vscode": {
     "languageId": "ocaml"
    }
   },
   "outputs": [
    {
     "data": {
      "text/plain": [
       "val ( ++ ) : float * float * float -> float * float * float -> r3 = <fun>\n"
      ]
     },
     "execution_count": 4,
     "metadata": {},
     "output_type": "execute_result"
    }
   ],
   "source": [
    "let ( ++ ) (x1, y1, z1) (x2, y2, z2) = ((x1 +. x2, y1 +. y2, z1 +. z2) : r3)"
   ]
  },
  {
   "cell_type": "code",
   "execution_count": 5,
   "metadata": {
    "vscode": {
     "languageId": "ocaml"
    }
   },
   "outputs": [
    {
     "data": {
      "text/plain": [
       "val ( ++ ) : r3 -> r3 -> r3 = <fun>\n"
      ]
     },
     "execution_count": 5,
     "metadata": {},
     "output_type": "execute_result"
    }
   ],
   "source": [
    "let ( ++ ) ((x1, y1, z1) : r3) ((x2, y2, z2) : r3) = ((x1 +. x2, y1 +. y2, z1 +. z2) : r3)"
   ]
  },
  {
   "cell_type": "code",
   "execution_count": 6,
   "metadata": {
    "vscode": {
     "languageId": "ocaml"
    }
   },
   "outputs": [
    {
     "data": {
      "text/plain": [
       "type complex = float * float\n"
      ]
     },
     "execution_count": 6,
     "metadata": {},
     "output_type": "execute_result"
    }
   ],
   "source": [
    "type complex = float * float"
   ]
  },
  {
   "cell_type": "code",
   "execution_count": 7,
   "metadata": {
    "vscode": {
     "languageId": "ocaml"
    }
   },
   "outputs": [
    {
     "data": {
      "text/plain": [
       "- : float -> float -> float = <fun>\n"
      ]
     },
     "execution_count": 7,
     "metadata": {},
     "output_type": "execute_result"
    }
   ],
   "source": [
    "( ** )"
   ]
  },
  {
   "cell_type": "code",
   "execution_count": 10,
   "metadata": {
    "vscode": {
     "languageId": "ocaml"
    }
   },
   "outputs": [
    {
     "data": {
      "text/plain": [
       "val abs : complex -> float = <fun>\n"
      ]
     },
     "execution_count": 10,
     "metadata": {},
     "output_type": "execute_result"
    }
   ],
   "source": [
    "let abs ((x, y) : complex) = sqrt (x ** 2. +. y ** 2.)"
   ]
  },
  {
   "cell_type": "code",
   "execution_count": 11,
   "metadata": {
    "vscode": {
     "languageId": "ocaml"
    }
   },
   "outputs": [
    {
     "data": {
      "text/plain": [
       "val abs : complex -> float = <fun>\n"
      ]
     },
     "execution_count": 11,
     "metadata": {},
     "output_type": "execute_result"
    }
   ],
   "source": [
    "let abs ((r, _fi) : complex) = r"
   ]
  },
  {
   "cell_type": "code",
   "execution_count": 12,
   "metadata": {
    "vscode": {
     "languageId": "ocaml"
    }
   },
   "outputs": [
    {
     "data": {
      "text/plain": [
       "type datum = int * int * int\n"
      ]
     },
     "execution_count": 12,
     "metadata": {},
     "output_type": "execute_result"
    }
   ],
   "source": [
    "type datum = int * int * int"
   ]
  },
  {
   "cell_type": "code",
   "execution_count": null,
   "metadata": {
    "vscode": {
     "languageId": "ocaml"
    }
   },
   "outputs": [],
   "source": [
    "let je_v_prestopnem_letu (_, _, leto) = ..."
   ]
  },
  {
   "cell_type": "code",
   "execution_count": null,
   "metadata": {
    "vscode": {
     "languageId": "ocaml"
    }
   },
   "outputs": [],
   "source": [
    "let je_v_prestopnem_letu (leto, _, _) = ..."
   ]
  },
  {
   "cell_type": "code",
   "execution_count": null,
   "metadata": {
    "vscode": {
     "languageId": "ocaml"
    }
   },
   "outputs": [],
   "source": [
    "type 'a zaporedje = int -> 'a"
   ]
  },
  {
   "cell_type": "code",
   "execution_count": null,
   "metadata": {
    "vscode": {
     "languageId": "ocaml"
    }
   },
   "outputs": [],
   "source": [
    "type ('k, 'v) slovar = ('k * 'v) list"
   ]
  },
  {
   "cell_type": "markdown",
   "metadata": {
    "vscode": {
     "languageId": "ocaml"
    }
   },
   "source": [
    "## Zapisi"
   ]
  },
  {
   "cell_type": "code",
   "execution_count": 14,
   "metadata": {
    "vscode": {
     "languageId": "ocaml"
    }
   },
   "outputs": [
    {
     "data": {
      "text/plain": [
       "type complex = { re : float; im : float; }\n"
      ]
     },
     "execution_count": 14,
     "metadata": {},
     "output_type": "execute_result"
    }
   ],
   "source": [
    "type complex = {\n",
    "  re : float;\n",
    "  im : float;\n",
    "}"
   ]
  },
  {
   "cell_type": "code",
   "execution_count": 13,
   "metadata": {
    "vscode": {
     "languageId": "ocaml"
    }
   },
   "outputs": [
    {
     "data": {
      "text/plain": [
       "type complex' = { radij : float; kot : float; }\n"
      ]
     },
     "execution_count": 13,
     "metadata": {},
     "output_type": "execute_result"
    }
   ],
   "source": [
    "type complex' = {\n",
    "  radij : float;\n",
    "  kot : float;\n",
    "}"
   ]
  },
  {
   "cell_type": "code",
   "execution_count": 15,
   "metadata": {
    "vscode": {
     "languageId": "ocaml"
    }
   },
   "outputs": [
    {
     "data": {
      "text/plain": [
       "val i : complex = {re = 0.; im = 1.}\n"
      ]
     },
     "execution_count": 15,
     "metadata": {},
     "output_type": "execute_result"
    }
   ],
   "source": [
    "let i = { re = 0.; im = 1. }"
   ]
  },
  {
   "cell_type": "code",
   "execution_count": 16,
   "metadata": {
    "vscode": {
     "languageId": "ocaml"
    }
   },
   "outputs": [
    {
     "data": {
      "text/plain": [
       "val abs : complex -> float = <fun>\n"
      ]
     },
     "execution_count": 16,
     "metadata": {},
     "output_type": "execute_result"
    }
   ],
   "source": [
    "let abs z = z.re ** 2. +. z.im ** 2. |> sqrt"
   ]
  },
  {
   "cell_type": "code",
   "execution_count": null,
   "metadata": {
    "vscode": {
     "languageId": "ocaml"
    }
   },
   "outputs": [
    {
     "data": {
      "text/plain": [
       "val conj : complex -> complex = <fun>\n"
      ]
     },
     "execution_count": 17,
     "metadata": {},
     "output_type": "execute_result"
    }
   ],
   "source": [
    "let conj z = c"
   ]
  },
  {
   "cell_type": "code",
   "execution_count": null,
   "metadata": {
    "vscode": {
     "languageId": "ocaml"
    }
   },
   "outputs": [],
   "source": [
    "let conj { re = x; im = y } = { re = x; im = -. y }"
   ]
  },
  {
   "cell_type": "code",
   "execution_count": null,
   "metadata": {
    "vscode": {
     "languageId": "ocaml"
    }
   },
   "outputs": [],
   "source": [
    "let conj { re = re; im = im } = { re = re; im = -. im }"
   ]
  },
  {
   "cell_type": "code",
   "execution_count": 18,
   "metadata": {
    "vscode": {
     "languageId": "ocaml"
    }
   },
   "outputs": [
    {
     "data": {
      "text/plain": [
       "val conj : complex -> complex = <fun>\n"
      ]
     },
     "execution_count": 18,
     "metadata": {},
     "output_type": "execute_result"
    }
   ],
   "source": [
    "let conj { re; im } = { re; im = -. im }"
   ]
  },
  {
   "cell_type": "code",
   "execution_count": null,
   "metadata": {
    "vscode": {
     "languageId": "ocaml"
    }
   },
   "outputs": [],
   "source": [
    "let abs { radij; _ } = radij"
   ]
  },
  {
   "cell_type": "code",
   "execution_count": 19,
   "metadata": {
    "vscode": {
     "languageId": "ocaml"
    }
   },
   "outputs": [
    {
     "data": {
      "text/plain": [
       "val conj : complex -> complex = <fun>\n"
      ]
     },
     "execution_count": 19,
     "metadata": {},
     "output_type": "execute_result"
    }
   ],
   "source": [
    "let conj z = { z with im = -. z.im }"
   ]
  },
  {
   "cell_type": "code",
   "execution_count": 20,
   "metadata": {
    "vscode": {
     "languageId": "ocaml"
    }
   },
   "outputs": [
    {
     "data": {
      "text/plain": [
       "- : complex = {re = 0.; im = 1.}\n"
      ]
     },
     "execution_count": 20,
     "metadata": {},
     "output_type": "execute_result"
    }
   ],
   "source": [
    "i"
   ]
  },
  {
   "cell_type": "code",
   "execution_count": 21,
   "metadata": {
    "vscode": {
     "languageId": "ocaml"
    }
   },
   "outputs": [
    {
     "data": {
      "text/plain": [
       "- : complex = {re = 0.; im = -1.}\n"
      ]
     },
     "execution_count": 21,
     "metadata": {},
     "output_type": "execute_result"
    }
   ],
   "source": [
    "conj i"
   ]
  },
  {
   "cell_type": "code",
   "execution_count": 22,
   "metadata": {
    "vscode": {
     "languageId": "ocaml"
    }
   },
   "outputs": [
    {
     "data": {
      "text/plain": [
       "- : complex = {re = 0.; im = 1.}\n"
      ]
     },
     "execution_count": 22,
     "metadata": {},
     "output_type": "execute_result"
    }
   ],
   "source": [
    "i"
   ]
  },
  {
   "cell_type": "markdown",
   "metadata": {},
   "source": [
    "## Naštevni tipi"
   ]
  },
  {
   "cell_type": "markdown",
   "metadata": {},
   "source": [
    "### Slab način"
   ]
  },
  {
   "cell_type": "code",
   "execution_count": null,
   "metadata": {
    "vscode": {
     "languageId": "ocaml"
    }
   },
   "outputs": [],
   "source": [
    "type narocilo = (string * int) list * string * string * string\n",
    "let narocila : narocilo list = [\n",
    "  ([(\"Death Star 75419\", 1)], \"Sheev Palpatine\", \"po pošti\", \"Alderaan\");\n",
    "  ([(\"AT-ST Walker 75417\", 12); (\"TIE Interceptor 75382\", 24)], \"Anakin Skywalker\", \"po pošti\", \"Hoth\");\n",
    "  ([(\"Lightsaber Gel Pens - 10 Pack 5008815\", 10)], \"General Grievous\", \"osebno\", \"???\");\n",
    "]\n",
    "let stroski_posiljanja ((izdelki, _, dostava, _) : narocilo) =\n",
    "  match dostava with\n",
    "  | \"po pošti\" ->\n",
    "      2.5 *. (izdelki |> List.map snd |> List.fold_left (+) 0 |> float_of_int |> sqrt)\n",
    "  | _ -> 0.\n",
    "\n",
    "let komu_je_treba_poslati =\n",
    "  narocila\n",
    "  |> List.filter (fun (_, _, dostava, _) -> dostava = \"po pošti\")\n",
    "  |> List.map (fun ((_, ime, _, _) as narocilo) -> (ime, stroski_posiljanja narocilo))\n"
   ]
  },
  {
   "cell_type": "markdown",
   "metadata": {},
   "source": [
    "### Zapisi"
   ]
  },
  {
   "cell_type": "code",
   "execution_count": null,
   "metadata": {
    "vscode": {
     "languageId": "ocaml"
    }
   },
   "outputs": [],
   "source": [
    "type izdelek_v_kosari = {\n",
    "  izdelek : string;\n",
    "  kolicina : int;\n",
    "}\n",
    "\n",
    "type narocilo = {\n",
    "  kosara : izdelek_v_kosari list;\n",
    "  narocnik : string;\n",
    "  dostava : string;\n",
    "  naslov : string\n",
    "}\n",
    "\n",
    "let narocila : narocilo list = [\n",
    "  ([(\"Death Star 75419\", 1)], \"Sheev Palpatine\", \"po pošti\", \"Alderaan\");\n",
    "  ([(\"AT-ST Walker 75417\", 12); (\"TIE Interceptor 75382\", 24)], \"Anakin Skywalker\", \"po pošti\", \"Hoth\");\n",
    "  ([(\"Lightsaber Gel Pens - 10 Pack 5008815\", 10)], \"General Grievous\", \"osebno\", \"???\");\n",
    "]\n",
    "let stroski_posiljanja ((izdelki, _, dostava, _) : narocilo) =\n",
    "  match dostava with\n",
    "  | \"po pošti\" ->\n",
    "      2.5 *. (izdelki |> List.map snd |> List.fold_left (+) 0 |> float_of_int |> sqrt)\n",
    "  | _ -> 0.\n",
    "\n",
    "let komu_je_treba_poslati =\n",
    "  narocila\n",
    "  |> List.filter (fun (_, _, dostava, _) -> dostava = \"po pošti\")\n",
    "  |> List.map (fun ((_, ime, _, _) as narocilo) -> (ime, stroski_posiljanja narocilo))\n"
   ]
  },
  {
   "cell_type": "code",
   "execution_count": null,
   "metadata": {
    "vscode": {
     "languageId": "ocaml"
    }
   },
   "outputs": [],
   "source": [
    "type 'a option =\n",
    "  | None\n",
    "  | Some of 'a"
   ]
  },
  {
   "cell_type": "markdown",
   "metadata": {},
   "source": [
    "### Algebrajski tipi"
   ]
  },
  {
   "cell_type": "code",
   "execution_count": null,
   "metadata": {
    "vscode": {
     "languageId": "ocaml"
    }
   },
   "outputs": [
    {
     "data": {
      "text/plain": [
       "type 'a seznam = Prazen | Sestavljen of 'a * 'a seznam\n"
      ]
     },
     "metadata": {},
     "output_type": "display_data"
    }
   ],
   "source": [
    "type 'a seznam =\n",
    "  | Prazen\n",
    "  | Sestavljen of 'a * 'a seznam"
   ]
  },
  {
   "cell_type": "code",
   "execution_count": null,
   "metadata": {
    "vscode": {
     "languageId": "ocaml"
    }
   },
   "outputs": [],
   "source": [
    "type 'a drevo =\n",
    "  | Prazno\n",
    "  | Sestavljeno of 'a drevo * 'a * 'a drevo"
   ]
  },
  {
   "cell_type": "code",
   "execution_count": 25,
   "metadata": {
    "vscode": {
     "languageId": "ocaml"
    }
   },
   "outputs": [
    {
     "data": {
      "text/plain": [
       "type naravno = Nic | Naslednik of naravno\n"
      ]
     },
     "execution_count": 25,
     "metadata": {},
     "output_type": "execute_result"
    }
   ],
   "source": [
    "type naravno =\n",
    "  | Nic\n",
    "  | Naslednik of naravno"
   ]
  },
  {
   "cell_type": "code",
   "execution_count": 26,
   "metadata": {
    "vscode": {
     "languageId": "ocaml"
    }
   },
   "outputs": [
    {
     "data": {
      "text/plain": [
       "val plus : naravno -> naravno -> naravno = <fun>\n"
      ]
     },
     "execution_count": 26,
     "metadata": {},
     "output_type": "execute_result"
    }
   ],
   "source": [
    "let rec plus m n =\n",
    "  match m with\n",
    "  | Nic -> n\n",
    "  | Naslednik m' -> Naslednik (plus m' n)"
   ]
  },
  {
   "cell_type": "code",
   "execution_count": 27,
   "metadata": {
    "vscode": {
     "languageId": "ocaml"
    }
   },
   "outputs": [
    {
     "data": {
      "text/plain": [
       "val ena : naravno = Naslednik Nic\n"
      ]
     },
     "execution_count": 27,
     "metadata": {},
     "output_type": "execute_result"
    },
    {
     "data": {
      "text/plain": [
       "val dva : naravno = Naslednik (Naslednik Nic)\n"
      ]
     },
     "execution_count": 27,
     "metadata": {},
     "output_type": "execute_result"
    },
    {
     "data": {
      "text/plain": [
       "val stiri : naravno = Naslednik (Naslednik (Naslednik (Naslednik Nic)))\n"
      ]
     },
     "execution_count": 27,
     "metadata": {},
     "output_type": "execute_result"
    }
   ],
   "source": [
    "let ena = Naslednik Nic\n",
    "let dva = plus ena ena\n",
    "let stiri = plus dva dva"
   ]
  },
  {
   "cell_type": "code",
   "execution_count": 28,
   "metadata": {
    "vscode": {
     "languageId": "ocaml"
    }
   },
   "outputs": [
    {
     "data": {
      "text/plain": [
       "val krat : naravno -> naravno -> naravno = <fun>\n"
      ]
     },
     "execution_count": 28,
     "metadata": {},
     "output_type": "execute_result"
    }
   ],
   "source": [
    "let rec krat m n =\n",
    "  match m with\n",
    "  | Nic -> Nic\n",
    "  | Naslednik m' -> plus (krat m' n) n"
   ]
  },
  {
   "cell_type": "code",
   "execution_count": 29,
   "metadata": {
    "vscode": {
     "languageId": "ocaml"
    }
   },
   "outputs": [
    {
     "data": {
      "text/plain": [
       "- : naravno =\n",
       "Naslednik\n",
       " (Naslednik\n",
       "   (Naslednik\n",
       "     (Naslednik\n",
       "       (Naslednik\n",
       "         (Naslednik\n",
       "           (Naslednik\n",
       "             (Naslednik\n",
       "               (Naslednik\n",
       "                 (Naslednik\n",
       "                   (Naslednik\n",
       "                     (Naslednik\n",
       "                       (Naslednik (Naslednik (Naslednik (Naslednik Nic)))))))))))))))\n"
      ]
     },
     "execution_count": 29,
     "metadata": {},
     "output_type": "execute_result"
    }
   ],
   "source": [
    "krat stiri stiri"
   ]
  }
 ],
 "metadata": {
  "kernelspec": {
   "display_name": "OCaml 4.14",
   "language": "OCaml",
   "name": "ocaml-jupyter"
  },
  "language_info": {
   "codemirror_mode": "text/x-ocaml",
   "file_extension": ".ml",
   "mimetype": "text/x-ocaml",
   "name": "OCaml",
   "nbconverter_exporter": null,
   "pygments_lexer": "OCaml",
   "version": "4.14.2"
  }
 },
 "nbformat": 4,
 "nbformat_minor": 2
}
